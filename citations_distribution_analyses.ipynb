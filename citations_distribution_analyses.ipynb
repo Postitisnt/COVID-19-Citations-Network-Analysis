{
 "cells": [
  {
   "cell_type": "code",
   "execution_count": 1,
   "metadata": {},
   "outputs": [],
   "source": [
    "import networkx as nx\n",
    "import json\n",
    "from tqdm import tqdm"
   ]
  },
  {
   "cell_type": "markdown",
   "metadata": {},
   "source": [
    "Read the metadata JSON file in order to build a dictionary and assign to each article a unique identifier (different from the DOI for easiest management of the network).\n",
    "\n",
    "- metadata_dict -> contains all the articles and their data\n",
    "- nodes -> dictionary containing tuples to map from DOI to node_id and journal title\n",
    "- journals_dict -> dictionary to map from Journal_title to unique_id of the journal "
   ]
  },
  {
   "cell_type": "code",
   "execution_count": 2,
   "metadata": {},
   "outputs": [],
   "source": [
    "# Read metadata JSON file in order to build a dictionary\n",
    "metadata = open(\"metadata.json\")\n",
    "metadata_dict = json.load(metadata)\n",
    "\n",
    "# Create a dict of pairs \"doi: (node_id, journal_title)\"\n",
    "nodes = dict()\n",
    "\n",
    "# Create a dict of pairs \"Journal: unique_identifier\"\n",
    "journals_dict = {}\n",
    "\n",
    "# Add a number as unique identifier of each one of the papers and to each Journal\n",
    "i = 0\n",
    "j = 0\n",
    "for paper in metadata_dict:\n",
    "    paper[\"node_id\"] = i\n",
    "    nodes[paper['id']] = (paper['node_id'], paper['source_title'])\n",
    "    i+=1\n",
    "    if paper['source_title'] not in journals_dict:\n",
    "        journals_dict[paper['source_title']] = j\n",
    "        j+=1"
   ]
  },
  {
   "cell_type": "markdown",
   "metadata": {},
   "source": [
    "Network initialization"
   ]
  },
  {
   "cell_type": "code",
   "execution_count": 3,
   "metadata": {},
   "outputs": [],
   "source": [
    "journals_network = nx.Graph()"
   ]
  },
  {
   "cell_type": "markdown",
   "metadata": {},
   "source": [
    "In order:\n",
    "- Read the JSON file containing citations' pairs;\n",
    "- Create a dictionary called \"journal_citations\" to store the different citations from journal to journal. The structure of this dictonary will be: \"citing_journal_id: list_of_cited_journal_ids\" (obviously, in the list we have repetitions of cited journals if articles cites more than one paper of the target journal);\n",
    "- Populate the network as said above. This is accomplished thanks to a temporary \"memo\" dict that stores each citations to every target journal and that is initialized every time the source journal changes.\n",
    "- Populate the \"weights\" dictionary. Such dictionary will contain the weight of each specific path retrieved and will be used to assign edge attributes to the network.\n",
    "- article_citations contains pairs of \"source article:[list of cited articles]\"."
   ]
  },
  {
   "cell_type": "code",
   "execution_count": 4,
   "metadata": {},
   "outputs": [],
   "source": [
    "# Read citations JSON file in order to build a dictionary\n",
    "citations = open('citations.json')\n",
    "citations_dict = json.load(citations)\n",
    "journal_citations = dict()\n",
    "article_citations = dict()"
   ]
  },
  {
   "cell_type": "code",
   "execution_count": 5,
   "metadata": {},
   "outputs": [
    {
     "name": "stderr",
     "output_type": "stream",
     "text": [
      "100%|██████████| 189697/189697 [00:00<00:00, 442581.24it/s]\n"
     ]
    }
   ],
   "source": [
    "# Iterate over citations_dict to build a journals citations' network\n",
    "for citation_obj in tqdm(citations_dict):\n",
    "    source = citation_obj['source']\n",
    "    target = citation_obj['target']\n",
    "    if source in nodes:\n",
    "        if target in nodes:\n",
    "            source_article = nodes[source][0]\n",
    "            target_article = nodes[target][0]\n",
    "            if source_article != target_article:\n",
    "                if source_article not in article_citations:\n",
    "                    article_citations[source_article] = list()\n",
    "                article_citations[source_article].append(target_article)\n",
    "                source_journal = nodes[source][1]\n",
    "                target_journal = nodes[target][1]\n",
    "                if source_journal in journals_dict:\n",
    "                    if target_journal in journals_dict:\n",
    "                        jorunal_source_id = journals_dict[source_journal]\n",
    "                        journal_target_id = journals_dict[target_journal]\n",
    "                        if jorunal_source_id not in journal_citations:\n",
    "                            journal_citations[jorunal_source_id] = list()\n",
    "                        journal_citations[jorunal_source_id].append(journal_target_id)\n",
    "\n",
    "# Add nodes to the graph\n",
    "for source_id in journal_citations:\n",
    "    memo = dict()\n",
    "    for target_id in journal_citations[source_id]:\n",
    "        if target_id not in memo:\n",
    "            memo[target_id] = 0\n",
    "        memo[target_id] += 1\n",
    "    for cited_journal in memo:\n",
    "        journals_network.add_edge(source_id, cited_journal)"
   ]
  },
  {
   "cell_type": "code",
   "execution_count": 25,
   "metadata": {},
   "outputs": [],
   "source": [
    "from networkx.utils import not_implemented_for, py_random_state\n",
    "\n",
    "__all__ = [\"random_reference\", \"lattice_reference\", \"sigma\", \"omega\"]\n",
    "\n",
    "@not_implemented_for(\"directed\")\n",
    "@not_implemented_for(\"multigraph\")\n",
    "def random_reference(G, niter=1, connectivity=True, seed=None):\n",
    "    if len(G) < 4:\n",
    "        raise nx.NetworkXError(\"Graph has less than four nodes.\")\n",
    "\n",
    "    from networkx.utils import cumulative_distribution, discrete_sequence\n",
    "\n",
    "    local_conn = nx.connectivity.local_edge_connectivity\n",
    "\n",
    "    G = G.copy()\n",
    "    keys, degrees = zip(*G.degree())  # keys, degree\n",
    "    cdf = cumulative_distribution(degrees)  # cdf of degree\n",
    "    nnodes = len(G)\n",
    "    nedges = nx.number_of_edges(G)\n",
    "    niter = niter * nedges\n",
    "    ntries = int(nnodes * nedges / (nnodes * (nnodes - 1) / 2))\n",
    "    swapcount = 0\n",
    "\n",
    "    for i in tqdm(range(niter)):\n",
    "        n = 0\n",
    "        while n < ntries:\n",
    "            # pick two random edges without creating edge list\n",
    "            # choose source node indices from discrete distribution\n",
    "            (ai, ci) = discrete_sequence(2, cdistribution=cdf, seed=seed)\n",
    "            if ai == ci:\n",
    "                continue  # same source, skip\n",
    "            a = keys[ai]  # convert index to label\n",
    "            c = keys[ci]\n",
    "            # choose target uniformly from neighbors\n",
    "            b = seed.choice(list(G.neighbors(a)))\n",
    "            d = seed.choice(list(G.neighbors(c)))\n",
    "            if b in [a, c, d] or d in [a, b, c]:\n",
    "                continue  # all vertices should be different\n",
    "\n",
    "            # don't create parallel edges\n",
    "            if (d not in G[a]) and (b not in G[c]):\n",
    "                G.add_edge(a, d)\n",
    "                G.add_edge(c, b)\n",
    "                G.remove_edge(a, b)\n",
    "                G.remove_edge(c, d)\n",
    "\n",
    "                # Check if the graph is still connected\n",
    "                if connectivity and local_conn(G, a, b) == 0:\n",
    "                    # Not connected, revert the swap\n",
    "                    G.remove_edge(a, d)\n",
    "                    G.remove_edge(c, b)\n",
    "                    G.add_edge(a, b)\n",
    "                    G.add_edge(c, d)\n",
    "                else:\n",
    "                    swapcount += 1\n",
    "                    break\n",
    "            n += 1\n",
    "    return G\n",
    "\n",
    "\n",
    "def sigma(G, nrand=10):\n",
    "    import numpy as np\n",
    "\n",
    "    # Compute the mean clustering coefficient and average shortest path length\n",
    "    # for an equivalent random graph\n",
    "    randMetrics = {\"C\": [], \"L\": []}\n",
    "    for i in tqdm(range(nrand)):\n",
    "        Gr = random_reference(G)\n",
    "        randMetrics[\"C\"].append(nx.transitivity(Gr))\n",
    "        randMetrics[\"L\"].append(nx.average_shortest_path_length(Gr))\n",
    "\n",
    "    C = nx.transitivity(G)\n",
    "    L = nx.average_shortest_path_length(G)\n",
    "    Cr = np.mean(randMetrics[\"C\"])\n",
    "    Lr = np.mean(randMetrics[\"L\"])\n",
    "\n",
    "    sigma = (C / Cr) / (L / Lr)\n",
    "\n",
    "    return sigma\n",
    "\n",
    "\n"
   ]
  },
  {
   "cell_type": "code",
   "execution_count": 26,
   "metadata": {},
   "outputs": [
    {
     "name": "stderr",
     "output_type": "stream",
     "text": [
      "  0%|          | 0/3910000 [00:00<?, ?it/s]\n",
      "  0%|          | 0/10 [00:00<?, ?it/s]\n"
     ]
    },
    {
     "ename": "AttributeError",
     "evalue": "'NoneType' object has no attribute 'choice'",
     "output_type": "error",
     "traceback": [
      "\u001b[0;31m---------------------------------------------------------------------------\u001b[0m",
      "\u001b[0;31mAttributeError\u001b[0m                            Traceback (most recent call last)",
      "\u001b[1;32m/Users/lorenzo/Desktop/Citations' Network Analysis/COVID-19-Citations-Network-Analysis/citations_distribution_analyses.ipynb Cella 11\u001b[0m in \u001b[0;36m<module>\u001b[0;34m\u001b[0m\n\u001b[0;32m----> <a href='vscode-notebook-cell:/Users/lorenzo/Desktop/Citations%27%20Network%20Analysis/COVID-19-Citations-Network-Analysis/citations_distribution_analyses.ipynb#X13sZmlsZQ%3D%3D?line=0'>1</a>\u001b[0m omega \u001b[39m=\u001b[39m sigma(journals_network)\n",
      "\u001b[1;32m/Users/lorenzo/Desktop/Citations' Network Analysis/COVID-19-Citations-Network-Analysis/citations_distribution_analyses.ipynb Cella 11\u001b[0m in \u001b[0;36msigma\u001b[0;34m(G, nrand)\u001b[0m\n\u001b[1;32m     <a href='vscode-notebook-cell:/Users/lorenzo/Desktop/Citations%27%20Network%20Analysis/COVID-19-Citations-Network-Analysis/citations_distribution_analyses.ipynb#X13sZmlsZQ%3D%3D?line=65'>66</a>\u001b[0m randMetrics \u001b[39m=\u001b[39m {\u001b[39m\"\u001b[39m\u001b[39mC\u001b[39m\u001b[39m\"\u001b[39m: [], \u001b[39m\"\u001b[39m\u001b[39mL\u001b[39m\u001b[39m\"\u001b[39m: []}\n\u001b[1;32m     <a href='vscode-notebook-cell:/Users/lorenzo/Desktop/Citations%27%20Network%20Analysis/COVID-19-Citations-Network-Analysis/citations_distribution_analyses.ipynb#X13sZmlsZQ%3D%3D?line=66'>67</a>\u001b[0m \u001b[39mfor\u001b[39;00m i \u001b[39min\u001b[39;00m tqdm(\u001b[39mrange\u001b[39m(nrand)):\n\u001b[0;32m---> <a href='vscode-notebook-cell:/Users/lorenzo/Desktop/Citations%27%20Network%20Analysis/COVID-19-Citations-Network-Analysis/citations_distribution_analyses.ipynb#X13sZmlsZQ%3D%3D?line=67'>68</a>\u001b[0m     Gr \u001b[39m=\u001b[39m random_reference(G)\n\u001b[1;32m     <a href='vscode-notebook-cell:/Users/lorenzo/Desktop/Citations%27%20Network%20Analysis/COVID-19-Citations-Network-Analysis/citations_distribution_analyses.ipynb#X13sZmlsZQ%3D%3D?line=68'>69</a>\u001b[0m     randMetrics[\u001b[39m\"\u001b[39m\u001b[39mC\u001b[39m\u001b[39m\"\u001b[39m]\u001b[39m.\u001b[39mappend(nx\u001b[39m.\u001b[39mtransitivity(Gr))\n\u001b[1;32m     <a href='vscode-notebook-cell:/Users/lorenzo/Desktop/Citations%27%20Network%20Analysis/COVID-19-Citations-Network-Analysis/citations_distribution_analyses.ipynb#X13sZmlsZQ%3D%3D?line=69'>70</a>\u001b[0m     randMetrics[\u001b[39m\"\u001b[39m\u001b[39mL\u001b[39m\u001b[39m\"\u001b[39m]\u001b[39m.\u001b[39mappend(nx\u001b[39m.\u001b[39maverage_shortest_path_length(Gr))\n",
      "File \u001b[0;32m/Library/Frameworks/Python.framework/Versions/3.10/lib/python3.10/site-packages/networkx/utils/decorators.py:795\u001b[0m, in \u001b[0;36margmap.__call__.<locals>.func\u001b[0;34m(_argmap__wrapper, *args, **kwargs)\u001b[0m\n\u001b[1;32m    794\u001b[0m \u001b[39mdef\u001b[39;00m \u001b[39mfunc\u001b[39m(\u001b[39m*\u001b[39margs, __wrapper\u001b[39m=\u001b[39m\u001b[39mNone\u001b[39;00m, \u001b[39m*\u001b[39m\u001b[39m*\u001b[39mkwargs):\n\u001b[0;32m--> 795\u001b[0m     \u001b[39mreturn\u001b[39;00m argmap\u001b[39m.\u001b[39;49m_lazy_compile(__wrapper)(\u001b[39m*\u001b[39;49margs, \u001b[39m*\u001b[39;49m\u001b[39m*\u001b[39;49mkwargs)\n",
      "File \u001b[0;32m<class 'networkx.utils.decorators.argmap'> compilation 61:5\u001b[0m, in \u001b[0;36margmap_random_reference_57\u001b[0;34m(G, niter, connectivity, seed)\u001b[0m\n\u001b[1;32m      3\u001b[0m \u001b[39mfrom\u001b[39;00m \u001b[39mcontextlib\u001b[39;00m \u001b[39mimport\u001b[39;00m contextmanager\n\u001b[1;32m      4\u001b[0m \u001b[39mfrom\u001b[39;00m \u001b[39mpathlib\u001b[39;00m \u001b[39mimport\u001b[39;00m Path\n\u001b[0;32m----> 5\u001b[0m \u001b[39mimport\u001b[39;00m \u001b[39mwarnings\u001b[39;00m\n\u001b[1;32m      7\u001b[0m \u001b[39mimport\u001b[39;00m \u001b[39mnetworkx\u001b[39;00m \u001b[39mas\u001b[39;00m \u001b[39mnx\u001b[39;00m\n\u001b[1;32m      8\u001b[0m \u001b[39mfrom\u001b[39;00m \u001b[39mnetworkx\u001b[39;00m\u001b[39m.\u001b[39;00m\u001b[39mutils\u001b[39;00m \u001b[39mimport\u001b[39;00m create_random_state, create_py_random_state\n",
      "\u001b[1;32m/Users/lorenzo/Desktop/Citations' Network Analysis/COVID-19-Citations-Network-Analysis/citations_distribution_analyses.ipynb Cella 11\u001b[0m in \u001b[0;36mrandom_reference\u001b[0;34m(G, niter, connectivity, seed)\u001b[0m\n\u001b[1;32m     <a href='vscode-notebook-cell:/Users/lorenzo/Desktop/Citations%27%20Network%20Analysis/COVID-19-Citations-Network-Analysis/citations_distribution_analyses.ipynb#X13sZmlsZQ%3D%3D?line=32'>33</a>\u001b[0m c \u001b[39m=\u001b[39m keys[ci]\n\u001b[1;32m     <a href='vscode-notebook-cell:/Users/lorenzo/Desktop/Citations%27%20Network%20Analysis/COVID-19-Citations-Network-Analysis/citations_distribution_analyses.ipynb#X13sZmlsZQ%3D%3D?line=33'>34</a>\u001b[0m \u001b[39m# choose target uniformly from neighbors\u001b[39;00m\n\u001b[0;32m---> <a href='vscode-notebook-cell:/Users/lorenzo/Desktop/Citations%27%20Network%20Analysis/COVID-19-Citations-Network-Analysis/citations_distribution_analyses.ipynb#X13sZmlsZQ%3D%3D?line=34'>35</a>\u001b[0m b \u001b[39m=\u001b[39m seed\u001b[39m.\u001b[39;49mchoice(\u001b[39mlist\u001b[39m(G\u001b[39m.\u001b[39mneighbors(a)))\n\u001b[1;32m     <a href='vscode-notebook-cell:/Users/lorenzo/Desktop/Citations%27%20Network%20Analysis/COVID-19-Citations-Network-Analysis/citations_distribution_analyses.ipynb#X13sZmlsZQ%3D%3D?line=35'>36</a>\u001b[0m d \u001b[39m=\u001b[39m seed\u001b[39m.\u001b[39mchoice(\u001b[39mlist\u001b[39m(G\u001b[39m.\u001b[39mneighbors(c)))\n\u001b[1;32m     <a href='vscode-notebook-cell:/Users/lorenzo/Desktop/Citations%27%20Network%20Analysis/COVID-19-Citations-Network-Analysis/citations_distribution_analyses.ipynb#X13sZmlsZQ%3D%3D?line=36'>37</a>\u001b[0m \u001b[39mif\u001b[39;00m b \u001b[39min\u001b[39;00m [a, c, d] \u001b[39mor\u001b[39;00m d \u001b[39min\u001b[39;00m [a, b, c]:\n",
      "\u001b[0;31mAttributeError\u001b[0m: 'NoneType' object has no attribute 'choice'"
     ]
    }
   ],
   "source": [
    "omega = sigma(journals_network)"
   ]
  },
  {
   "cell_type": "markdown",
   "metadata": {},
   "source": [
    "Save"
   ]
  },
  {
   "cell_type": "code",
   "execution_count": 6,
   "metadata": {},
   "outputs": [],
   "source": [
    "nx.write_gml(journals_network, \"J_UndirNet.gml\")"
   ]
  },
  {
   "cell_type": "markdown",
   "metadata": {},
   "source": [
    "Test"
   ]
  },
  {
   "cell_type": "code",
   "execution_count": 14,
   "metadata": {},
   "outputs": [],
   "source": [
    "boh = nx.Graph()\n",
    "boh.add_edge(1,2)\n",
    "boh.add_edge(1,3)\n",
    "boh.add_edge(2,3)\n",
    "boh.add_edge(2,4)\n",
    "boh.add_edge(3,4)\n",
    "boh.add_edge(3,5)\n",
    "boh.add_edge(4,5)\n",
    "boh.add_edge(4,6)\n",
    "boh.add_edge(5,6)\n",
    "boh.add_edge(5,7)\n",
    "boh.add_edge(6,7)\n",
    "boh.add_edge(6,8)\n",
    "boh.add_edge(7,8)\n",
    "boh.add_edge(7,9)\n",
    "boh.add_edge(8,9)\n",
    "boh.add_edge(8,10)\n",
    "boh.add_edge(9,10)"
   ]
  },
  {
   "cell_type": "code",
   "execution_count": 16,
   "metadata": {},
   "outputs": [
    {
     "data": {
      "text/plain": [
       "1.7373961218836564"
      ]
     },
     "execution_count": 16,
     "metadata": {},
     "output_type": "execute_result"
    }
   ],
   "source": [
    "omega = nx.sigma(boh)\n",
    "omega"
   ]
  }
 ],
 "metadata": {
  "kernelspec": {
   "display_name": "Python 3.10.0 64-bit",
   "language": "python",
   "name": "python3"
  },
  "language_info": {
   "codemirror_mode": {
    "name": "ipython",
    "version": 3
   },
   "file_extension": ".py",
   "mimetype": "text/x-python",
   "name": "python",
   "nbconvert_exporter": "python",
   "pygments_lexer": "ipython3",
   "version": "3.10.5"
  },
  "orig_nbformat": 4,
  "vscode": {
   "interpreter": {
    "hash": "aee8b7b246df8f9039afb4144a1f6fd8d2ca17a180786b69acc140d282b71a49"
   }
  }
 },
 "nbformat": 4,
 "nbformat_minor": 2
}
