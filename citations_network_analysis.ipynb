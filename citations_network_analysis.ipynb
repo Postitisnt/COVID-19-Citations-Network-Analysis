{
 "cells": [
  {
   "cell_type": "markdown",
   "metadata": {},
   "source": [
    "Import the required packages and libraries."
   ]
  },
  {
   "cell_type": "code",
   "execution_count": 1,
   "metadata": {},
   "outputs": [],
   "source": [
    "import networkx as nx\n",
    "import matplotlib.pyplot as plt\n",
    "import json\n",
    "from tqdm import tqdm"
   ]
  },
  {
   "cell_type": "markdown",
   "metadata": {},
   "source": [
    "Read the metadata JSON file in order to build a dictionary and assign to each article a unique identifier (different from the DOI for easiest management of the network).\n",
    "\n",
    "- metadata_dict -> contains all the articles and their data\n",
    "- nodes -> dictionary containing tuples to map from DOI to node_id and journal title\n",
    "- journals_dict -> dictionary to map from Journal_title to unique_id of the journal "
   ]
  },
  {
   "cell_type": "code",
   "execution_count": 2,
   "metadata": {},
   "outputs": [],
   "source": [
    "# Read metadata JSON file in order to build a dictionary\n",
    "metadata = open(\"metadata.json\")\n",
    "metadata_dict = json.load(metadata)\n",
    "\n",
    "# Create a dict of pairs \"doi: (node_id, journal_title)\"\n",
    "nodes = dict()\n",
    "\n",
    "# Create a dict of pairs \"Journal: unique_identifier\"\n",
    "journals_dict = {}\n",
    "\n",
    "# Add a number as unique identifier of each one of the papers and to each Journal\n",
    "i = 0\n",
    "j = 0\n",
    "for paper in metadata_dict:\n",
    "    paper[\"node_id\"] = i\n",
    "    nodes[paper['id']] = (paper['node_id'], paper['source_title'])\n",
    "    i+=1\n",
    "    if paper['source_title'] not in journals_dict:\n",
    "        journals_dict[paper['source_title']] = j\n",
    "        j+=1\n",
    "    "
   ]
  },
  {
   "cell_type": "markdown",
   "metadata": {},
   "source": [
    "Build the first network:\n",
    "- journals_network -> such network will have the different journals as nodes; the edges will be weighted with the reciprocal of the number of citations of articles that goes from journal A to journal B. To be more accurate, it is correct to specify that target nodes without citations won't be considered at all, giving thus the possibility to avoid the definition of a normalization constant (that could have been useful to avoid 0-weigths in paths)."
   ]
  },
  {
   "cell_type": "code",
   "execution_count": 7,
   "metadata": {},
   "outputs": [],
   "source": [
    "# Build the citations graph\n",
    "journals_network = nx.DiGraph()"
   ]
  },
  {
   "cell_type": "markdown",
   "metadata": {},
   "source": [
    "In order:\n",
    "- Read the JSON file containing citations' pairs;\n",
    "- Create a dictionary called \"journal_citations\" to store the different citations from journal to journal. The structure of this dictonary will be: \"citing_journal_id: list_of_cited_journal_ids\" (obviously, in the list we have repetitions of cited journals if articles cites more than one paper of the target journal);\n",
    "- Populate the network as said above. This is accomplished thanks to a temporary \"memo\" dict that stores each citations to every target journal and that is initialized every time the source journal changes.\n",
    "- Populate the \"weights\" dictionary. Such dictionary will contain the weight of each specific path retrieved and will be used to assign edge attributes to the network.\n",
    "- article_citations contains pairs of \"source article:[list of cited articles]\"."
   ]
  },
  {
   "cell_type": "markdown",
   "metadata": {},
   "source": [
    "<span style=\"color:red\">Invertire e dare importanza alle citazioni ricevute, non a quelle fatte</span>"
   ]
  },
  {
   "cell_type": "code",
   "execution_count": 8,
   "metadata": {},
   "outputs": [],
   "source": [
    "# Read citations JSON file in order to build a dictionary\n",
    "citations = open('citations.json')\n",
    "citations_dict = json.load(citations)\n",
    "journal_citations = dict()\n",
    "article_citations = dict()"
   ]
  },
  {
   "cell_type": "code",
   "execution_count": 9,
   "metadata": {},
   "outputs": [
    {
     "name": "stderr",
     "output_type": "stream",
     "text": [
      "100%|██████████| 189697/189697 [00:01<00:00, 166724.83it/s]\n"
     ]
    }
   ],
   "source": [
    "# Iterate over citations_dict to build a journals citations' network\n",
    "for citation_obj in tqdm(citations_dict):\n",
    "    source = citation_obj['source']\n",
    "    target = citation_obj['target']\n",
    "    if source in nodes:\n",
    "        if target in nodes:\n",
    "            source_article = nodes[source][0]\n",
    "            target_article = nodes[target][0]\n",
    "            if source_article != target_article:\n",
    "                if source_article not in article_citations:\n",
    "                    article_citations[source_article] = list()\n",
    "                article_citations[source_article].append(target_article)\n",
    "                source_journal = nodes[source][1]\n",
    "                target_journal = nodes[target][1]\n",
    "                if source_journal in journals_dict:\n",
    "                    if target_journal in journals_dict:\n",
    "                        jorunal_source_id = journals_dict[source_journal]\n",
    "                        journal_target_id = journals_dict[target_journal]\n",
    "                        if jorunal_source_id not in journal_citations:\n",
    "                            journal_citations[jorunal_source_id] = list()\n",
    "                        journal_citations[jorunal_source_id].append(journal_target_id)\n",
    "\n",
    "# Add nodes to the graph\n",
    "weights = dict()\n",
    "\n",
    "for source_id in journal_citations:\n",
    "    memo = dict()\n",
    "    for target_id in journal_citations[source_id]:\n",
    "        if target_id not in memo:\n",
    "            memo[target_id] = 0\n",
    "        memo[target_id] += 1\n",
    "    for cited_journal in memo:\n",
    "        weights[(source_id, cited_journal)] = 1/memo[cited_journal]\n",
    "        journals_network.add_edge(source_id, cited_journal)"
   ]
  },
  {
   "cell_type": "markdown",
   "metadata": {},
   "source": [
    "Assign edge_attributes to the network, according to the previously computed weights."
   ]
  },
  {
   "cell_type": "code",
   "execution_count": 5,
   "metadata": {},
   "outputs": [],
   "source": [
    "nx.set_edge_attributes(journals_network, weights, \"betweenness\")"
   ]
  },
  {
   "cell_type": "markdown",
   "metadata": {},
   "source": [
    "Compute the \"betweenness_centrality\" measure to retrieve the most important journals. The parameter \"weight\" will contain the weights attributed to the network in the previous snippet.</br>\n",
    "The \"normalized=True\" attribute is useful, in this case, because provides a normalization measure for the direct network."
   ]
  },
  {
   "cell_type": "code",
   "execution_count": 6,
   "metadata": {},
   "outputs": [],
   "source": [
    "journals_weighted_betweennes = nx.betweenness_centrality(journals_network, k=None, normalized=True, weight='betweenness', endpoints=False, seed=None)"
   ]
  },
  {
   "cell_type": "markdown",
   "metadata": {},
   "source": [
    "Print the 100 most influential journals."
   ]
  },
  {
   "cell_type": "code",
   "execution_count": 7,
   "metadata": {},
   "outputs": [
    {
     "data": {
      "text/plain": [
       "[(24, 0.28175846307132224),\n",
       " (30, 0.0787274916323082),\n",
       " (129, 0.0615866332146319),\n",
       " (156, 0.057756211844293186),\n",
       " (41, 0.05396803220153811),\n",
       " (112, 0.04368358687736121),\n",
       " (66, 0.02815852917613958),\n",
       " (95, 0.027115148618240728),\n",
       " (53, 0.02238817025570451),\n",
       " (9, 0.02037088059900622),\n",
       " (44, 0.01821255362951039),\n",
       " (132, 0.013419361176865563),\n",
       " (74, 0.013226557194091947),\n",
       " (1768, 0.012307156991240072),\n",
       " (29, 0.011343009592483366),\n",
       " (131, 0.010360077685648698),\n",
       " (79, 0.008929569750468887),\n",
       " (452, 0.008724998131956123),\n",
       " (265, 0.007652387110309917),\n",
       " (319, 0.007623039568603626),\n",
       " (457, 0.006764983012768679),\n",
       " (179, 0.0052490732108770735),\n",
       " (379, 0.005004052458418592),\n",
       " (3610, 0.004922706692550782),\n",
       " (40, 0.004691704074375413),\n",
       " (100, 0.004629455024476058),\n",
       " (363, 0.004593342978475764),\n",
       " (57, 0.004438893735049145),\n",
       " (80, 0.0042549512529006725),\n",
       " (180, 0.003978886629197557),\n",
       " (138, 0.0036937679766701616),\n",
       " (137, 0.003659258597841062),\n",
       " (2684, 0.0035934035468065196),\n",
       " (165, 0.0029209077506857648),\n",
       " (27, 0.002806062078168114),\n",
       " (143, 0.002776558432516577),\n",
       " (464, 0.0027720158077099116),\n",
       " (17, 0.002589686399662316),\n",
       " (5217, 0.00246182165811113),\n",
       " (412, 0.002461290904697293),\n",
       " (199, 0.002380850541711911),\n",
       " (414, 0.002324013095247759),\n",
       " (356, 0.0021778217505246653),\n",
       " (233, 0.00215838680934151),\n",
       " (306, 0.002142994960340232),\n",
       " (539, 0.0021399119074216187),\n",
       " (33, 0.0021317658832121864),\n",
       " (376, 0.0020874219558325744),\n",
       " (354, 0.0020817866034091854),\n",
       " (493, 0.002032421332457486),\n",
       " (196, 0.001989992280139561),\n",
       " (489, 0.0019437282742334205),\n",
       " (222, 0.001939232480610329),\n",
       " (693, 0.0019030319757077285),\n",
       " (109, 0.001855373441224055),\n",
       " (649, 0.0016280184519026056),\n",
       " (68, 0.0016200467437653646),\n",
       " (443, 0.001610836610995837),\n",
       " (635, 0.0015881078765679862),\n",
       " (70, 0.0015587759452562197),\n",
       " (450, 0.0015398717574869015),\n",
       " (268, 0.001512241359178319),\n",
       " (171, 0.0014927908076006388),\n",
       " (1010, 0.0014577923030764342),\n",
       " (35, 0.001366939806943129),\n",
       " (4925, 0.0013339706537071254),\n",
       " (264, 0.0013337677185783052),\n",
       " (118, 0.0013067305152616585),\n",
       " (3519, 0.0012735584268968347),\n",
       " (432, 0.001272559361647259),\n",
       " (465, 0.0012587285520984429),\n",
       " (814, 0.001235999817670592),\n",
       " (1545, 0.001233517764941177),\n",
       " (93, 0.0012197806177595089),\n",
       " (664, 0.0012117724853683773),\n",
       " (711, 0.0011894652315926912),\n",
       " (58, 0.001185125541914846),\n",
       " (1971, 0.001128163212294497),\n",
       " (948, 0.0011189790968491773),\n",
       " (907, 0.001117235936127261),\n",
       " (506, 0.0011122093890903325),\n",
       " (1103, 0.0011080570241467828),\n",
       " (228, 0.001097160968768596),\n",
       " (301, 0.0010874148791203899),\n",
       " (3016, 0.001026164894470611),\n",
       " (5233, 0.0010251346084319858),\n",
       " (750, 0.001016314735525574),\n",
       " (152, 0.0009952563133118577),\n",
       " (1487, 0.0009660960963398621),\n",
       " (413, 0.0009571045090936793),\n",
       " (89, 0.000936873437789768),\n",
       " (153, 0.0009251344211072516),\n",
       " (65, 0.0009230140091843238),\n",
       " (253, 0.000920357640382717),\n",
       " (761, 0.0009122402352299131),\n",
       " (455, 0.0009029988816713363),\n",
       " (84, 0.0008988465167277867),\n",
       " (163, 0.0008709663521068101),\n",
       " (110, 0.0008620215960442012),\n",
       " (1520, 0.0008542320091764144)]"
      ]
     },
     "execution_count": 7,
     "metadata": {},
     "output_type": "execute_result"
    }
   ],
   "source": [
    "journals_influence = sorted(journals_weighted_betweennes.items(), key=lambda item: item[1], reverse=True)\n",
    "journals_influence[:100]"
   ]
  },
  {
   "cell_type": "markdown",
   "metadata": {},
   "source": [
    "Extract the title of the most influential journal."
   ]
  },
  {
   "cell_type": "code",
   "execution_count": 8,
   "metadata": {},
   "outputs": [
    {
     "data": {
      "text/plain": [
       "'Journal Of Virology'"
      ]
     },
     "execution_count": 8,
     "metadata": {},
     "output_type": "execute_result"
    }
   ],
   "source": [
    "for journal_title in journals_dict:\n",
    "    if journals_dict[journal_title] == journals_influence[0][0]:\n",
    "        most_influential_journal = journal_title\n",
    "        break\n",
    "most_influential_journal"
   ]
  },
  {
   "cell_type": "markdown",
   "metadata": {},
   "source": [
    "Count the number of outgoing edges from each article in the dataset."
   ]
  },
  {
   "cell_type": "code",
   "execution_count": 9,
   "metadata": {},
   "outputs": [],
   "source": [
    "# Raw count of how many articles each specific article cites\n",
    "article_citations_tot = dict()\n",
    "\n",
    "for citation in citations_dict:\n",
    "    if citation['source'] in nodes:\n",
    "        source_article_id = nodes[citation['source']][0]\n",
    "        if citation['target'] in nodes:\n",
    "            target_article_id = nodes[citation['target']][0]\n",
    "            if source_article_id != target_article_id:\n",
    "                if source_article_id not in article_citations_tot:\n",
    "                    article_citations_tot[source_article_id] = 0\n",
    "                article_citations_tot[source_article_id] += 1"
   ]
  },
  {
   "cell_type": "markdown",
   "metadata": {},
   "source": [
    "Build a \"journals_sizes\" dictionary, containing pairs \"journal_id: journal_size\", retrieved by the betweenness centrality dictionary computed above."
   ]
  },
  {
   "cell_type": "code",
   "execution_count": 10,
   "metadata": {},
   "outputs": [],
   "source": [
    "journal_influences = journals_weighted_betweennes"
   ]
  },
  {
   "cell_type": "markdown",
   "metadata": {},
   "source": [
    "In the following snippet, is given a weight to citations between articles.</br>\n",
    "Such weight is computed in the following way:\n",
    "- $n$ is the raw count of out-going citations from a certain article;\n",
    "- $\\alpha$ is the influence of the specific journal containing the citing article (computed with the betweenness centrality measure);\n",
    "- $\\lambda$ is a constant ($\\lambda = 0.1$) that is useful to normalize weights equal to $0$;\n",
    "</br>\n",
    "Following a flow of information that goes from the source article to the cited one, the relative weight ($\\Phi_{ij}$) of the connection between \"article $A$\" and \"article $B$\" is computed as follows:</br>\n",
    "\n",
    "$$\\Phi_{AB} = \\dfrac{\\alpha + \\lambda}{n}$$ \n",
    "</br>\n",
    "\n",
    "The idea behind this computation derives from the will to distribute the importance of a certain article between all the articles that it cites in an equal way. Furthermore, higher the number of cited articles -> smaller the importance passed to each one of them.\n"
   ]
  },
  {
   "cell_type": "code",
   "execution_count": 11,
   "metadata": {},
   "outputs": [],
   "source": [
    "# articles_weights contains pairs of \"(tuple source-target): weight of the connection\"\n",
    "articles_weights = dict()\n",
    "\n",
    "for citation in citations_dict:\n",
    "    found_all = False\n",
    "    if citation['source'] in nodes:\n",
    "        source_article_id = nodes[citation['source']][0]\n",
    "        source_journal = nodes[citation['source']][1]\n",
    "        if source_journal in journals_dict:\n",
    "            source_journal_id = journals_dict[source_journal]\n",
    "            if source_journal_id in journal_influences:\n",
    "                if source_article_id in article_citations_tot:\n",
    "                    article_distributed_weight = ((0.1 + journal_influences[source_journal_id])/article_citations_tot[source_article_id])\n",
    "                    found_all = True\n",
    "    if found_all:\n",
    "        if source_article_id in article_citations:\n",
    "            for cited_article_id in article_citations[source_article_id]:\n",
    "                if source_article_id != cited_article_id:\n",
    "                    articles_weights[(source_article_id, cited_article_id)] = article_distributed_weight"
   ]
  },
  {
   "cell_type": "markdown",
   "metadata": {},
   "source": [
    "------\n",
    "Below is provided a function to retrieve all the publications within each specific journal. Such function won't be used but may be useful for others who want to analyze more than a single journal."
   ]
  },
  {
   "cell_type": "code",
   "execution_count": 12,
   "metadata": {},
   "outputs": [],
   "source": [
    "# journals_articles contains pairs of \"journal_id: list(article_ids of articles in that journal)\"\n",
    "journals_articles = dict()\n",
    "\n",
    "for doi in nodes:\n",
    "    journal_title = nodes[doi][1]\n",
    "    if journal_title in journals_dict:\n",
    "        journal_id = journals_dict[journal_title]\n",
    "        if journal_id not in journals_articles:\n",
    "            journals_articles[journal_id] = list()\n",
    "        journals_articles[journal_id].append(nodes[doi][0])"
   ]
  },
  {
   "cell_type": "markdown",
   "metadata": {},
   "source": [
    "-------"
   ]
  },
  {
   "cell_type": "markdown",
   "metadata": {},
   "source": [
    "Build a new network, that is the citation network of publications contained within the most influential journal."
   ]
  },
  {
   "cell_type": "code",
   "execution_count": 13,
   "metadata": {},
   "outputs": [],
   "source": [
    "publications_network = nx.DiGraph()"
   ]
  },
  {
   "cell_type": "markdown",
   "metadata": {},
   "source": [
    "Retrieve all the publications within the most influential journal and populate the previously created citation network with them."
   ]
  },
  {
   "cell_type": "code",
   "execution_count": 14,
   "metadata": {},
   "outputs": [
    {
     "name": "stderr",
     "output_type": "stream",
     "text": [
      "100%|██████████| 189697/189697 [00:00<00:00, 1428053.03it/s]\n"
     ]
    }
   ],
   "source": [
    "weighted_citations_in_journal = dict()\n",
    "\n",
    "for citation in tqdm(citations_dict):\n",
    "    if citation['source'] in nodes:\n",
    "        if nodes[citation['source']][1] == most_influential_journal:\n",
    "            source = nodes[citation['source']][0]\n",
    "            if citation['target'] in nodes:\n",
    "                if nodes[citation['target']][1] == most_influential_journal:\n",
    "                    target = nodes[citation['target']][0]\n",
    "                    if source != target:\n",
    "                        weighted_citations_in_journal[(source, target)] = articles_weights[(source, target)]\n",
    "                        publications_network.add_edge(source, target)"
   ]
  },
  {
   "cell_type": "markdown",
   "metadata": {},
   "source": [
    "Set the weights of edges within the most influential journal citations network."
   ]
  },
  {
   "cell_type": "code",
   "execution_count": 15,
   "metadata": {},
   "outputs": [],
   "source": [
    "nx.set_edge_attributes(publications_network, weighted_citations_in_journal, \"eigenvector_values\")"
   ]
  },
  {
   "cell_type": "markdown",
   "metadata": {},
   "source": [
    "Finally, we compute the eigenvector centrality in order to find which publications can be identified as key publications within the most influential journal."
   ]
  },
  {
   "cell_type": "code",
   "execution_count": 16,
   "metadata": {},
   "outputs": [],
   "source": [
    "key_papers = nx.eigenvector_centrality(publications_network, max_iter=1000, weight='eigenvector_values')"
   ]
  },
  {
   "cell_type": "code",
   "execution_count": 17,
   "metadata": {},
   "outputs": [
    {
     "data": {
      "text/plain": [
       "[(6389, 0.9328506736879955),\n",
       " (29134, 0.1353611088264001),\n",
       " (10199, 0.11319512049689386)]"
      ]
     },
     "execution_count": 17,
     "metadata": {},
     "output_type": "execute_result"
    }
   ],
   "source": [
    "three_key_papers = sorted(key_papers.items(), key=lambda item: item[1], reverse=True)[:3]\n",
    "three_key_papers"
   ]
  },
  {
   "cell_type": "markdown",
   "metadata": {},
   "source": [
    "Retrieve the 3 most important papers within the most influential journal."
   ]
  },
  {
   "cell_type": "code",
   "execution_count": 18,
   "metadata": {},
   "outputs": [],
   "source": [
    "for paper in metadata_dict:\n",
    "    if paper['node_id'] == three_key_papers[0][0]:\n",
    "        key_paper_1 = paper\n",
    "    if paper['node_id'] == three_key_papers[1][0]:\n",
    "        key_paper_2 = paper\n",
    "    if paper['node_id'] == three_key_papers[2][0]:\n",
    "        key_paper_3 = paper"
   ]
  },
  {
   "cell_type": "markdown",
   "metadata": {},
   "source": [
    "Print the results."
   ]
  },
  {
   "cell_type": "code",
   "execution_count": 19,
   "metadata": {},
   "outputs": [
    {
     "data": {
      "text/plain": [
       "{'id': '10.1128/jvi.01245-08',\n",
       " 'author': 'KräHling, Stein, Spiegel, Weber, MüHlberger',\n",
       " 'year': '2008',\n",
       " 'title': 'Severe Acute Respiratory Syndrome Coronavirus Triggers Apoptosis Via Protein Kinase R But Is Resistant To Its Antiviral Activity',\n",
       " 'source_title': 'Journal Of Virology',\n",
       " 'node_id': 6389}"
      ]
     },
     "execution_count": 19,
     "metadata": {},
     "output_type": "execute_result"
    }
   ],
   "source": [
    "key_paper_1"
   ]
  },
  {
   "cell_type": "code",
   "execution_count": 20,
   "metadata": {},
   "outputs": [
    {
     "data": {
      "text/plain": [
       "{'id': '10.1128/jvi.02744-05',\n",
       " 'author': 'Li, Berardi, Li, Farzan, Dormitzer, Harrison',\n",
       " 'year': '2006',\n",
       " 'title': 'Conformational States Of The Severe Acute Respiratory Syndrome Coronavirus Spike Protein Ectodomain',\n",
       " 'source_title': 'Journal Of Virology',\n",
       " 'node_id': 29134}"
      ]
     },
     "execution_count": 20,
     "metadata": {},
     "output_type": "execute_result"
    }
   ],
   "source": [
    "key_paper_2"
   ]
  },
  {
   "cell_type": "code",
   "execution_count": 21,
   "metadata": {},
   "outputs": [
    {
     "data": {
      "text/plain": [
       "{'id': '10.1128/jvi.00442-08',\n",
       " 'author': 'Li',\n",
       " 'year': '2008',\n",
       " 'title': 'Structural Analysis Of Major Species Barriers Between Humans And Palm Civets For Severe Acute Respiratory Syndrome Coronavirus Infections',\n",
       " 'source_title': 'Journal Of Virology',\n",
       " 'node_id': 10199}"
      ]
     },
     "execution_count": 21,
     "metadata": {},
     "output_type": "execute_result"
    }
   ],
   "source": [
    "key_paper_3"
   ]
  },
  {
   "cell_type": "code",
   "execution_count": 22,
   "metadata": {},
   "outputs": [],
   "source": [
    "nx.write_gml(publications_network, \"pub_network.gml\")\n",
    "nx.write_gml(journals_network, \"journals_network.gml\")"
   ]
  },
  {
   "cell_type": "code",
   "execution_count": 23,
   "metadata": {},
   "outputs": [
    {
     "data": {
      "image/png": "[encoded data removed]",
      "text/plain": [
       "<Figure size 432x288 with 1 Axes>"
      ]
     },
     "metadata": {},
     "output_type": "display_data"
    }
   ],
   "source": [
    "nx.draw(publications_network)"
   ]
  }
 ],
 "metadata": {
  "kernelspec": {
   "display_name": "Python 3.10.5 64-bit",
   "language": "python",
   "name": "python3"
  },
  "language_info": {
   "codemirror_mode": {
    "name": "ipython",
    "version": 3
   },
   "file_extension": ".py",
   "mimetype": "text/x-python",
   "name": "python",
   "nbconvert_exporter": "python",
   "pygments_lexer": "ipython3",
   "version": "3.10.0"
  },
  "orig_nbformat": 4,
  "vscode": {
   "interpreter": {
    "hash": "aee8b7b246df8f9039afb4144a1f6fd8d2ca17a180786b69acc140d282b71a49"
   }
  }
 },
 "nbformat": 4,
 "nbformat_minor": 2
}
