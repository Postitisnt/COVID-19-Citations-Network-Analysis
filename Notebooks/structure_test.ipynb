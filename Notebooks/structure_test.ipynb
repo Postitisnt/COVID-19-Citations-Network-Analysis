{
 "cells": [
  {
   "cell_type": "code",
   "execution_count": 1,
   "metadata": {},
   "outputs": [],
   "source": [
    "import networkx as nx\n",
    "import json\n",
    "from tqdm import tqdm"
   ]
  },
  {
   "cell_type": "markdown",
   "metadata": {},
   "source": [
    "Read the metadata JSON file in order to build a dictionary and assign to each article a unique identifier (different from the DOI for easiest management of the network).\n",
    "\n",
    "- metadata_dict -> contains all the articles and their data\n",
    "- nodes -> dictionary containing tuples to map from DOI to node_id and journal title\n",
    "- journals_dict -> dictionary to map from Journal_title to unique_id of the journal "
   ]
  },
  {
   "cell_type": "code",
   "execution_count": 3,
   "metadata": {},
   "outputs": [],
   "source": [
    "# Read metadata JSON file in order to build a dictionary\n",
    "metadata = open(\"../Data/metadata.json\")\n",
    "metadata_dict = json.load(metadata)\n",
    "\n",
    "# Create a dict of pairs \"doi: (node_id, journal_title)\"\n",
    "nodes = dict()\n",
    "\n",
    "# Create a dict of pairs \"Journal: unique_identifier\"\n",
    "journals_dict = {}\n",
    "\n",
    "# Add a number as unique identifier of each one of the papers and to each Journal\n",
    "i = 0\n",
    "j = 0\n",
    "for paper in metadata_dict:\n",
    "    paper[\"node_id\"] = i\n",
    "    nodes[paper['id']] = (paper['node_id'], paper['source_title'])\n",
    "    i+=1\n",
    "    if paper['source_title'] not in journals_dict:\n",
    "        journals_dict[paper['source_title']] = j\n",
    "        j+=1"
   ]
  },
  {
   "cell_type": "markdown",
   "metadata": {},
   "source": [
    "Network initialization"
   ]
  },
  {
   "cell_type": "code",
   "execution_count": 4,
   "metadata": {},
   "outputs": [],
   "source": [
    "journals_network = nx.Graph()"
   ]
  },
  {
   "cell_type": "markdown",
   "metadata": {},
   "source": [
    "In order:\n",
    "- Read the JSON file containing citations' pairs;\n",
    "- Create a dictionary called \"journal_citations\" to store the different citations from journal to journal. The structure of this dictonary will be: \"citing_journal_id: list_of_cited_journal_ids\" (obviously, in the list we have repetitions of cited journals if articles cites more than one paper of the target journal);\n",
    "- Populate the network as said above. This is accomplished thanks to a temporary \"memo\" dict that stores each citations to every target journal and that is initialized every time the source journal changes.\n",
    "- Populate the \"weights\" dictionary. Such dictionary will contain the weight of each specific path retrieved and will be used to assign edge attributes to the network.\n",
    "- article_citations contains pairs of \"source article:[list of cited articles]\"."
   ]
  },
  {
   "cell_type": "code",
   "execution_count": 5,
   "metadata": {},
   "outputs": [],
   "source": [
    "# Read citations JSON file in order to build a dictionary\n",
    "citations = open('../Data/citations.json')\n",
    "citations_dict = json.load(citations)\n",
    "journal_citations = dict()\n",
    "article_citations = dict()"
   ]
  },
  {
   "cell_type": "code",
   "execution_count": 6,
   "metadata": {},
   "outputs": [
    {
     "name": "stderr",
     "output_type": "stream",
     "text": [
      "100%|██████████| 189697/189697 [00:00<00:00, 258366.00it/s]\n"
     ]
    }
   ],
   "source": [
    "edge_list = list()\n",
    "\n",
    "# Iterate over citations_dict to build a journals citations' network\n",
    "for citation_obj in tqdm(citations_dict):\n",
    "    source = citation_obj['source']\n",
    "    target = citation_obj['target']\n",
    "    if source in nodes:\n",
    "        if target in nodes:\n",
    "            source_article = nodes[source][0]\n",
    "            target_article = nodes[target][0]\n",
    "            if source_article != target_article:\n",
    "                if source_article not in article_citations:\n",
    "                    article_citations[source_article] = list()\n",
    "                article_citations[source_article].append(target_article)\n",
    "                source_journal = nodes[source][1]\n",
    "                target_journal = nodes[target][1]\n",
    "                if source_journal in journals_dict:\n",
    "                    if target_journal in journals_dict:\n",
    "                        jorunal_source_id = journals_dict[source_journal]\n",
    "                        journal_target_id = journals_dict[target_journal]\n",
    "                        if jorunal_source_id not in journal_citations:\n",
    "                            journal_citations[jorunal_source_id] = list()\n",
    "                        journal_citations[jorunal_source_id].append(journal_target_id)\n",
    "\n",
    "# Add nodes to the graph\n",
    "for source_id in journal_citations:\n",
    "    memo = dict()\n",
    "    for target_id in journal_citations[source_id]:\n",
    "        if target_id not in memo:\n",
    "            memo[target_id] = 0\n",
    "        memo[target_id] += 1\n",
    "    for cited_journal in memo:\n",
    "        edge_list.append((source_id, cited_journal))\n",
    "        journals_network.add_edge(source_id, cited_journal)"
   ]
  },
  {
   "cell_type": "code",
   "execution_count": 7,
   "metadata": {},
   "outputs": [
    {
     "ename": "KeyboardInterrupt",
     "evalue": "",
     "output_type": "error",
     "traceback": [
      "\u001b[0;31m---------------------------------------------------------------------------\u001b[0m",
      "\u001b[0;31mKeyboardInterrupt\u001b[0m                         Traceback (most recent call last)",
      "\u001b[1;32m/Users/lorenzo/Desktop/Citations' Network Analysis/COVID-19-Citations-Network-Analysis/Notebooks/structure_test.ipynb Cella 9\u001b[0m in \u001b[0;36m<module>\u001b[0;34m\u001b[0m\n\u001b[0;32m----> <a href='vscode-notebook-cell:/Users/lorenzo/Desktop/Citations%27%20Network%20Analysis/COVID-19-Citations-Network-Analysis/Notebooks/structure_test.ipynb#X11sZmlsZQ%3D%3D?line=0'>1</a>\u001b[0m sigma \u001b[39m=\u001b[39m nx\u001b[39m.\u001b[39;49msigma(journals_network, niter\u001b[39m=\u001b[39;49m\u001b[39m3\u001b[39;49m, nrand\u001b[39m=\u001b[39;49m\u001b[39m5\u001b[39;49m)\n\u001b[1;32m      <a href='vscode-notebook-cell:/Users/lorenzo/Desktop/Citations%27%20Network%20Analysis/COVID-19-Citations-Network-Analysis/Notebooks/structure_test.ipynb#X11sZmlsZQ%3D%3D?line=1'>2</a>\u001b[0m sigma\n",
      "File \u001b[0;32m/Library/Frameworks/Python.framework/Versions/3.10/lib/python3.10/site-packages/networkx/utils/decorators.py:795\u001b[0m, in \u001b[0;36margmap.__call__.<locals>.func\u001b[0;34m(_argmap__wrapper, *args, **kwargs)\u001b[0m\n\u001b[1;32m    794\u001b[0m \u001b[39mdef\u001b[39;00m \u001b[39mfunc\u001b[39m(\u001b[39m*\u001b[39margs, __wrapper\u001b[39m=\u001b[39m\u001b[39mNone\u001b[39;00m, \u001b[39m*\u001b[39m\u001b[39m*\u001b[39mkwargs):\n\u001b[0;32m--> 795\u001b[0m     \u001b[39mreturn\u001b[39;00m argmap\u001b[39m.\u001b[39;49m_lazy_compile(__wrapper)(\u001b[39m*\u001b[39;49margs, \u001b[39m*\u001b[39;49m\u001b[39m*\u001b[39;49mkwargs)\n",
      "File \u001b[0;32m<class 'networkx.utils.decorators.argmap'> compilation 6:6\u001b[0m, in \u001b[0;36margmap_sigma_1\u001b[0;34m(G, niter, nrand, seed)\u001b[0m\n",
      "File \u001b[0;32m/Library/Frameworks/Python.framework/Versions/3.10/lib/python3.10/site-packages/networkx/algorithms/smallworld.py:284\u001b[0m, in \u001b[0;36msigma\u001b[0;34m(G, niter, nrand, seed)\u001b[0m\n\u001b[1;32m    282\u001b[0m randMetrics \u001b[39m=\u001b[39m {\u001b[39m\"\u001b[39m\u001b[39mC\u001b[39m\u001b[39m\"\u001b[39m: [], \u001b[39m\"\u001b[39m\u001b[39mL\u001b[39m\u001b[39m\"\u001b[39m: []}\n\u001b[1;32m    283\u001b[0m \u001b[39mfor\u001b[39;00m i \u001b[39min\u001b[39;00m \u001b[39mrange\u001b[39m(nrand):\n\u001b[0;32m--> 284\u001b[0m     Gr \u001b[39m=\u001b[39m random_reference(G, niter\u001b[39m=\u001b[39;49mniter, seed\u001b[39m=\u001b[39;49mseed)\n\u001b[1;32m    285\u001b[0m     randMetrics[\u001b[39m\"\u001b[39m\u001b[39mC\u001b[39m\u001b[39m\"\u001b[39m]\u001b[39m.\u001b[39mappend(nx\u001b[39m.\u001b[39mtransitivity(Gr))\n\u001b[1;32m    286\u001b[0m     randMetrics[\u001b[39m\"\u001b[39m\u001b[39mL\u001b[39m\u001b[39m\"\u001b[39m]\u001b[39m.\u001b[39mappend(nx\u001b[39m.\u001b[39maverage_shortest_path_length(Gr))\n",
      "File \u001b[0;32m/Library/Frameworks/Python.framework/Versions/3.10/lib/python3.10/site-packages/networkx/utils/decorators.py:795\u001b[0m, in \u001b[0;36margmap.__call__.<locals>.func\u001b[0;34m(_argmap__wrapper, *args, **kwargs)\u001b[0m\n\u001b[1;32m    794\u001b[0m \u001b[39mdef\u001b[39;00m \u001b[39mfunc\u001b[39m(\u001b[39m*\u001b[39margs, __wrapper\u001b[39m=\u001b[39m\u001b[39mNone\u001b[39;00m, \u001b[39m*\u001b[39m\u001b[39m*\u001b[39mkwargs):\n\u001b[0;32m--> 795\u001b[0m     \u001b[39mreturn\u001b[39;00m argmap\u001b[39m.\u001b[39;49m_lazy_compile(__wrapper)(\u001b[39m*\u001b[39;49margs, \u001b[39m*\u001b[39;49m\u001b[39m*\u001b[39;49mkwargs)\n",
      "File \u001b[0;32m<class 'networkx.utils.decorators.argmap'> compilation 12:6\u001b[0m, in \u001b[0;36margmap_random_reference_7\u001b[0;34m(G, niter, connectivity, seed)\u001b[0m\n",
      "File \u001b[0;32m/Library/Frameworks/Python.framework/Versions/3.10/lib/python3.10/site-packages/networkx/algorithms/smallworld.py:101\u001b[0m, in \u001b[0;36mrandom_reference\u001b[0;34m(G, niter, connectivity, seed)\u001b[0m\n\u001b[1;32m     98\u001b[0m G\u001b[39m.\u001b[39mremove_edge(c, d)\n\u001b[1;32m    100\u001b[0m \u001b[39m# Check if the graph is still connected\u001b[39;00m\n\u001b[0;32m--> 101\u001b[0m \u001b[39mif\u001b[39;00m connectivity \u001b[39mand\u001b[39;00m local_conn(G, a, b) \u001b[39m==\u001b[39m \u001b[39m0\u001b[39m:\n\u001b[1;32m    102\u001b[0m     \u001b[39m# Not connected, revert the swap\u001b[39;00m\n\u001b[1;32m    103\u001b[0m     G\u001b[39m.\u001b[39mremove_edge(a, d)\n\u001b[1;32m    104\u001b[0m     G\u001b[39m.\u001b[39mremove_edge(c, b)\n",
      "File \u001b[0;32m/Library/Frameworks/Python.framework/Versions/3.10/lib/python3.10/site-packages/networkx/algorithms/connectivity/connectivity.py:632\u001b[0m, in \u001b[0;36mlocal_edge_connectivity\u001b[0;34m(G, s, t, flow_func, auxiliary, residual, cutoff)\u001b[0m\n\u001b[1;32m    629\u001b[0m     flow_func \u001b[39m=\u001b[39m default_flow_func\n\u001b[1;32m    631\u001b[0m \u001b[39mif\u001b[39;00m auxiliary \u001b[39mis\u001b[39;00m \u001b[39mNone\u001b[39;00m:\n\u001b[0;32m--> 632\u001b[0m     H \u001b[39m=\u001b[39m build_auxiliary_edge_connectivity(G)\n\u001b[1;32m    633\u001b[0m \u001b[39melse\u001b[39;00m:\n\u001b[1;32m    634\u001b[0m     H \u001b[39m=\u001b[39m auxiliary\n",
      "File \u001b[0;32m/Library/Frameworks/Python.framework/Versions/3.10/lib/python3.10/site-packages/networkx/algorithms/connectivity/utils.py:84\u001b[0m, in \u001b[0;36mbuild_auxiliary_edge_connectivity\u001b[0;34m(G)\u001b[0m\n\u001b[1;32m     82\u001b[0m H\u001b[39m.\u001b[39madd_nodes_from(G\u001b[39m.\u001b[39mnodes())\n\u001b[1;32m     83\u001b[0m \u001b[39mfor\u001b[39;00m (source, target) \u001b[39min\u001b[39;00m G\u001b[39m.\u001b[39medges():\n\u001b[0;32m---> 84\u001b[0m     H\u001b[39m.\u001b[39;49madd_edges_from([(source, target), (target, source)], capacity\u001b[39m=\u001b[39;49m\u001b[39m1\u001b[39;49m)\n\u001b[1;32m     85\u001b[0m \u001b[39mreturn\u001b[39;00m H\n",
      "File \u001b[0;32m/Library/Frameworks/Python.framework/Versions/3.10/lib/python3.10/site-packages/networkx/classes/digraph.py:699\u001b[0m, in \u001b[0;36mDiGraph.add_edges_from\u001b[0;34m(self, ebunch_to_add, **attr)\u001b[0m\n\u001b[1;32m    697\u001b[0m datadict \u001b[39m=\u001b[39m \u001b[39mself\u001b[39m\u001b[39m.\u001b[39m_adj[u]\u001b[39m.\u001b[39mget(v, \u001b[39mself\u001b[39m\u001b[39m.\u001b[39medge_attr_dict_factory())\n\u001b[1;32m    698\u001b[0m datadict\u001b[39m.\u001b[39mupdate(attr)\n\u001b[0;32m--> 699\u001b[0m datadict\u001b[39m.\u001b[39;49mupdate(dd)\n\u001b[1;32m    700\u001b[0m \u001b[39mself\u001b[39m\u001b[39m.\u001b[39m_succ[u][v] \u001b[39m=\u001b[39m datadict\n\u001b[1;32m    701\u001b[0m \u001b[39mself\u001b[39m\u001b[39m.\u001b[39m_pred[v][u] \u001b[39m=\u001b[39m datadict\n",
      "\u001b[0;31mKeyboardInterrupt\u001b[0m: "
     ]
    }
   ],
   "source": [
    "sigma = nx.sigma(journals_network, niter=3, nrand=5)\n",
    "sigma"
   ]
  },
  {
   "cell_type": "markdown",
   "metadata": {},
   "source": [
    "Save"
   ]
  },
  {
   "cell_type": "code",
   "execution_count": null,
   "metadata": {},
   "outputs": [],
   "source": [
    "nx.write_gml(journals_network, \"J_UndirNet.gml\")"
   ]
  },
  {
   "cell_type": "markdown",
   "metadata": {},
   "source": [
    "Test"
   ]
  },
  {
   "cell_type": "code",
   "execution_count": 9,
   "metadata": {},
   "outputs": [
    {
     "name": "stderr",
     "output_type": "stream",
     "text": [
      "4it [00:29,  7.26s/it]"
     ]
    },
    {
     "name": "stdout",
     "output_type": "stream",
     "text": [
      "2.989171113335879\n",
      "1.0\n",
      "1.0\n",
      "1.0\n"
     ]
    },
    {
     "name": "stderr",
     "output_type": "stream",
     "text": [
      "\n"
     ]
    }
   ],
   "source": [
    "for C in tqdm((journals_network.subgraph(c).copy() for c in nx.connected_components(journals_network))):\n",
    "    print(nx.average_shortest_path_length(C))"
   ]
  },
  {
   "cell_type": "markdown",
   "metadata": {},
   "source": [
    "ER Random Network"
   ]
  },
  {
   "cell_type": "code",
   "execution_count": null,
   "metadata": {},
   "outputs": [],
   "source": [
    "n = 5661\n",
    "E = 39100\n",
    "p = (2*E)/((n-1)*n)\n",
    "p = 0.5"
   ]
  },
  {
   "cell_type": "code",
   "execution_count": null,
   "metadata": {},
   "outputs": [
    {
     "name": "stdout",
     "output_type": "stream",
     "text": [
      "C_r:  0.002385061659264084\n",
      "L_r:  3.588537217325411\n"
     ]
    }
   ],
   "source": [
    "er_no_p_Random_network = nx.gnm_random_graph(n, E)\n",
    "C_r = nx.average_clustering(er_no_p_Random_network)\n",
    "L_r = nx.average_shortest_path_length(er_no_p_Random_network)\n",
    "print(\"C_r: \", C_r)\n",
    "print(\"L_r: \", L_r)"
   ]
  },
  {
   "cell_type": "code",
   "execution_count": null,
   "metadata": {},
   "outputs": [
    {
     "name": "stderr",
     "output_type": "stream",
     "text": [
      "  0%|          | 0/11 [00:06<?, ?it/s]\n"
     ]
    },
    {
     "ename": "KeyboardInterrupt",
     "evalue": "",
     "output_type": "error",
     "traceback": [
      "\u001b[0;31m---------------------------------------------------------------------------\u001b[0m",
      "\u001b[0;31mKeyboardInterrupt\u001b[0m                         Traceback (most recent call last)",
      "\u001b[1;32m/Users/lorenzo/Desktop/Citations' Network Analysis/COVID-19-Citations-Network-Analysis/citations_distribution_analyses.ipynb Cella 15\u001b[0m in \u001b[0;36m<module>\u001b[0;34m\u001b[0m\n\u001b[1;32m      <a href='vscode-notebook-cell:/Users/lorenzo/Desktop/Citations%27%20Network%20Analysis/COVID-19-Citations-Network-Analysis/citations_distribution_analyses.ipynb#X24sZmlsZQ%3D%3D?line=2'>3</a>\u001b[0m er_shortest_sum \u001b[39m=\u001b[39m \u001b[39m0\u001b[39m\n\u001b[1;32m      <a href='vscode-notebook-cell:/Users/lorenzo/Desktop/Citations%27%20Network%20Analysis/COVID-19-Citations-Network-Analysis/citations_distribution_analyses.ipynb#X24sZmlsZQ%3D%3D?line=3'>4</a>\u001b[0m \u001b[39mfor\u001b[39;00m network \u001b[39min\u001b[39;00m tqdm(\u001b[39mrange\u001b[39m(\u001b[39m0\u001b[39m, \u001b[39m11\u001b[39m)):\n\u001b[0;32m----> <a href='vscode-notebook-cell:/Users/lorenzo/Desktop/Citations%27%20Network%20Analysis/COVID-19-Citations-Network-Analysis/citations_distribution_analyses.ipynb#X24sZmlsZQ%3D%3D?line=4'>5</a>\u001b[0m     G \u001b[39m=\u001b[39m nx\u001b[39m.\u001b[39;49merdos_renyi_graph(n,p)\n\u001b[1;32m      <a href='vscode-notebook-cell:/Users/lorenzo/Desktop/Citations%27%20Network%20Analysis/COVID-19-Citations-Network-Analysis/citations_distribution_analyses.ipynb#X24sZmlsZQ%3D%3D?line=5'>6</a>\u001b[0m     er_clusters_sum\u001b[39m+\u001b[39m\u001b[39m=\u001b[39mnx\u001b[39m.\u001b[39maverage_clustering(G)\n\u001b[1;32m      <a href='vscode-notebook-cell:/Users/lorenzo/Desktop/Citations%27%20Network%20Analysis/COVID-19-Citations-Network-Analysis/citations_distribution_analyses.ipynb#X24sZmlsZQ%3D%3D?line=6'>7</a>\u001b[0m     er_shortest_sum\u001b[39m+\u001b[39m\u001b[39m=\u001b[39mnx\u001b[39m.\u001b[39maverage_shortest_path_length(G)\n",
      "File \u001b[0;32m<class 'networkx.utils.decorators.argmap'> compilation 33:4\u001b[0m, in \u001b[0;36margmap_gnp_random_graph_30\u001b[0;34m(n, p, seed, directed)\u001b[0m\n\u001b[1;32m      2\u001b[0m \u001b[39mfrom\u001b[39;00m \u001b[39mos\u001b[39;00m\u001b[39m.\u001b[39;00m\u001b[39mpath\u001b[39;00m \u001b[39mimport\u001b[39;00m splitext\n\u001b[1;32m      3\u001b[0m \u001b[39mfrom\u001b[39;00m \u001b[39mcontextlib\u001b[39;00m \u001b[39mimport\u001b[39;00m contextmanager\n\u001b[0;32m----> 4\u001b[0m \u001b[39mfrom\u001b[39;00m \u001b[39mpathlib\u001b[39;00m \u001b[39mimport\u001b[39;00m Path\n\u001b[1;32m      5\u001b[0m \u001b[39mimport\u001b[39;00m \u001b[39mwarnings\u001b[39;00m\n\u001b[1;32m      7\u001b[0m \u001b[39mimport\u001b[39;00m \u001b[39mnetworkx\u001b[39;00m \u001b[39mas\u001b[39;00m \u001b[39mnx\u001b[39;00m\n",
      "File \u001b[0;32m/Library/Frameworks/Python.framework/Versions/3.10/lib/python3.10/site-packages/networkx/generators/random_graphs.py:169\u001b[0m, in \u001b[0;36mgnp_random_graph\u001b[0;34m(n, p, seed, directed)\u001b[0m\n\u001b[1;32m    167\u001b[0m \u001b[39mfor\u001b[39;00m e \u001b[39min\u001b[39;00m edges:\n\u001b[1;32m    168\u001b[0m     \u001b[39mif\u001b[39;00m seed\u001b[39m.\u001b[39mrandom() \u001b[39m<\u001b[39m p:\n\u001b[0;32m--> 169\u001b[0m         G\u001b[39m.\u001b[39;49madd_edge(\u001b[39m*\u001b[39;49me)\n\u001b[1;32m    170\u001b[0m \u001b[39mreturn\u001b[39;00m G\n",
      "File \u001b[0;32m/Library/Frameworks/Python.framework/Versions/3.10/lib/python3.10/site-packages/networkx/classes/graph.py:891\u001b[0m, in \u001b[0;36mGraph.add_edge\u001b[0;34m(self, u_of_edge, v_of_edge, **attr)\u001b[0m\n\u001b[1;32m    889\u001b[0m \u001b[39m# add the edge\u001b[39;00m\n\u001b[1;32m    890\u001b[0m datadict \u001b[39m=\u001b[39m \u001b[39mself\u001b[39m\u001b[39m.\u001b[39m_adj[u]\u001b[39m.\u001b[39mget(v, \u001b[39mself\u001b[39m\u001b[39m.\u001b[39medge_attr_dict_factory())\n\u001b[0;32m--> 891\u001b[0m datadict\u001b[39m.\u001b[39;49mupdate(attr)\n\u001b[1;32m    892\u001b[0m \u001b[39mself\u001b[39m\u001b[39m.\u001b[39m_adj[u][v] \u001b[39m=\u001b[39m datadict\n\u001b[1;32m    893\u001b[0m \u001b[39mself\u001b[39m\u001b[39m.\u001b[39m_adj[v][u] \u001b[39m=\u001b[39m datadict\n",
      "\u001b[0;31mKeyboardInterrupt\u001b[0m: "
     ]
    }
   ],
   "source": [
    "i=0\n",
    "er_clusters_sum = 0\n",
    "er_shortest_sum = 0\n",
    "for network in tqdm(range(0, 11)):\n",
    "    G = nx.erdos_renyi_graph(n,p)\n",
    "    er_clusters_sum+=nx.average_clustering(G)\n",
    "    er_shortest_sum+=nx.average_shortest_path_length(G)\n",
    "    i+=1"
   ]
  },
  {
   "cell_type": "code",
   "execution_count": null,
   "metadata": {},
   "outputs": [
    {
     "name": "stdout",
     "output_type": "stream",
     "text": [
      "Average shortest path:  3.588099945904976\n",
      "Average clustering coefficient:  0.0024380069126278344\n"
     ]
    }
   ],
   "source": [
    "average_shortest_path = er_shortest_sum/i\n",
    "average_clustering_coefficient = er_clusters_sum/i\n",
    "print(\"Average shortest path: \", average_shortest_path)\n",
    "print(\"Average clustering coefficient: \", average_clustering_coefficient)"
   ]
  },
  {
   "cell_type": "code",
   "execution_count": null,
   "metadata": {},
   "outputs": [
    {
     "name": "stdout",
     "output_type": "stream",
     "text": [
      "292.5 0.8323586744639375 351.4110070257612\n"
     ]
    }
   ],
   "source": [
    "C = 0.585\n",
    "C_r = 0.002\n",
    "L = 2.989\n",
    "L_r = 3.591\n",
    "N = C/C_r\n",
    "D = L/L_r\n",
    "sigma_value = N/D\n",
    "print(N, D, sigma_value)"
   ]
  },
  {
   "cell_type": "code",
   "execution_count": null,
   "metadata": {},
   "outputs": [],
   "source": [
    "nx.write_gml(G, \"ER_Random.gml\")"
   ]
  }
 ],
 "metadata": {
  "kernelspec": {
   "display_name": "Python 3.10.0 64-bit",
   "language": "python",
   "name": "python3"
  },
  "language_info": {
   "codemirror_mode": {
    "name": "ipython",
    "version": 3
   },
   "file_extension": ".py",
   "mimetype": "text/x-python",
   "name": "python",
   "nbconvert_exporter": "python",
   "pygments_lexer": "ipython3",
   "version": "3.10.0"
  },
  "orig_nbformat": 4,
  "vscode": {
   "interpreter": {
    "hash": "aee8b7b246df8f9039afb4144a1f6fd8d2ca17a180786b69acc140d282b71a49"
   }
  }
 },
 "nbformat": 4,
 "nbformat_minor": 2
}
