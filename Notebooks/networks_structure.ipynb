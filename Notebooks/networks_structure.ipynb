{
 "cells": [
  {
   "cell_type": "markdown",
   "metadata": {},
   "source": [
    "# Small-worldness, scale freedom, and modularity analyses"
   ]
  },
  {
   "cell_type": "markdown",
   "metadata": {},
   "source": [
    "Set up environment."
   ]
  },
  {
   "cell_type": "code",
   "execution_count": 1,
   "metadata": {},
   "outputs": [],
   "source": [
    "import networkx as nx\n",
    "import networkx.algorithms.community as nx_comm\n",
    "from tqdm import tqdm\n",
    "import statistics as st\n",
    "import pandas as pd\n",
    "from math import log # is yet the natural logarithm ln\n",
    "import seaborn as sns"
   ]
  },
  {
   "cell_type": "markdown",
   "metadata": {},
   "source": [
    "Build an undirected network for papers and one for journals"
   ]
  },
  {
   "cell_type": "code",
   "execution_count": 2,
   "metadata": {},
   "outputs": [],
   "source": [
    "papers_network = nx.read_gml(\"../gml format networks/undirected_papers_network.gml\")\n",
    "journals_network = nx.read_gml(\"../gml format networks/undirected_journals_network.gml\")"
   ]
  },
  {
   "cell_type": "markdown",
   "metadata": {},
   "source": [
    "## Small-world effect "
   ]
  },
  {
   "cell_type": "markdown",
   "metadata": {},
   "source": [
    "A small-world network is a graph in which we expect to find shorther-than-expencted distances between pairs of nodes. In particular, in a small-world network most nodes are not neighbors of one another, but the neighbors of any given node are likely to be neighbors of each other and most nodes can be reached from every other node by a small number of hops or steps.\n",
    "\n",
    "From a mathematical point of view, the mean distance $\\ell_i$ for a node $i$ corresponds to $\\ell_i=\\frac{\\sum_j d_{ij}}{n}$. Where $d_{ij}$ is the length of the shortest path between the nodes $i$ and $j$.\n",
    "\n",
    "Therefore, the mean distance for the whole network corresponds to:\n",
    "\n",
    "$$ \\ell = \\frac{\\sum_{ij} d_{ij}}{n^2}$$\n",
    "\n",
    "A small-world network is thus defined as a network where the distance $\\ell$ between two random nodes grows proportionally to the logarithm of the number of nodes $n$ in the network:\n",
    "\n",
    "$$ \\ell \\propto log n$$"
   ]
  },
  {
   "cell_type": "markdown",
   "metadata": {},
   "source": [
    "#### Sigma and Omega coefficients"
   ]
  },
  {
   "cell_type": "markdown",
   "metadata": {},
   "source": [
    "There are two main ways to qunatify the small-worldness of a network:\n",
    "- Computing the small-world measure $\\sigma$ by comparing clustering and path length of a given network to an equivalent random network with same degree on average.\n",
    "- Computing the small-world measure $\\omega$ by comparing the clustering of a given network to an equivalent lattice network and its path length to an equivalent random network."
   ]
  },
  {
   "cell_type": "markdown",
   "metadata": {},
   "source": [
    "$\\sigma$ is defined as:\n",
    "\n",
    "$$\\sigma= \\dfrac{\\dfrac{C}{C_r}}{\\dfrac{L}{L_r}}$$\n",
    "\n",
    "Where $C$ is the clustering coefficient of our network and $C_r$ is the clusetering coefficient of an equivalent random graph, while $L$ and $L_r$ are the average shortest path values for our network and an equivalent random graph, respectively.\n",
    "\n",
    "A graph is commonly classified as small-world if $\\sigma \\gt 1$ $(C ≫ C_r$ $and$ $L ≈ L_r)$."
   ]
  },
  {
   "cell_type": "markdown",
   "metadata": {},
   "source": [
    "$\\omega$ is defined as:\n",
    "\n",
    "$$\\omega=\\dfrac{L_r}{L}-\\dfrac{C}{C_l}$$\n",
    "\n",
    "Where $C$ and $L$ are respectively the average clustering coefficient and average shortest path length of our network, while $L_r$ is the average shortest path length of an equivalent random graph and $C_l$ is the average clustering coefficient of an equivalent lattice graph.\n",
    "\n",
    "Negative values of $\\omega$ mean that our network is similar to a lattice, whereas positive values mean that it is more likely to be similar to a random graph. Values close to 0 mean that it has small-world characteristics."
   ]
  },
  {
   "cell_type": "markdown",
   "metadata": {},
   "source": [
    "### Computing the small-wordness coefficient $\\sigma$"
   ]
  },
  {
   "cell_type": "markdown",
   "metadata": {},
   "source": [
    "The dimensions of the networks we are dealing with do not allow us to use NetworkX to measure the coefficients. Therefore, we will compute them step by step.\n",
    "As we have seen before, to compute $\\sigma$ we need the clustering coefficient and the average path length of both our graphs and the correspondent random graphs.\n"
   ]
  },
  {
   "cell_type": "markdown",
   "metadata": {},
   "source": [
    "#### Papers network"
   ]
  },
  {
   "cell_type": "markdown",
   "metadata": {},
   "source": [
    "##### Computing the clustering coefficient $C$ and the average path length $L$ of our network."
   ]
  },
  {
   "cell_type": "code",
   "execution_count": null,
   "metadata": {},
   "outputs": [],
   "source": [
    "# Compute C\n",
    "C = nx.average_clustering(papers_network)\n",
    "print(\"C = \", C)"
   ]
  },
  {
   "cell_type": "code",
   "execution_count": null,
   "metadata": {},
   "outputs": [],
   "source": [
    "# Compute L\n",
    "L_list = list() # list of L values\n",
    "for N in (papers_network.subgraph(n).copy() for n in nx.connected_components(papers_network)): # for each connected component of the network (N) \n",
    "    L_list.append(nx.average_shortest_path_length(N)) # compute L and append it to the list\n",
    "\n",
    "if len(L_list) > 1:\n",
    "    computable_L_list = [L for L in L_list if L != 1.0] # remove the 0 values\n",
    "    if len(computable_L_list) == 1:\n",
    "        L = computable_L_list[0]\n",
    "    else:\n",
    "        L = st.mean(computable_L_list)\n",
    "else:\n",
    "    L = L_list[0]\n",
    "\n",
    "print(\"L = \", L)"
   ]
  },
  {
   "cell_type": "markdown",
   "metadata": {},
   "source": [
    "##### Retrieve the number of edges $E$ and nodes $n$ in the network and the probability $p$ of finding an edge between two random nodes in the graph."
   ]
  },
  {
   "cell_type": "code",
   "execution_count": null,
   "metadata": {},
   "outputs": [],
   "source": [
    "E = papers_network.nx.number_of_edges()\n",
    "n = papers_network.nx.number_of_nodes()\n",
    "p = (2*E)/((n-1)*n)\n",
    "\n",
    "print(\"E = \", E)\n",
    "print(\"n = \", n)\n",
    "print(\"p = \", p)"
   ]
  },
  {
   "cell_type": "markdown",
   "metadata": {},
   "source": [
    "##### Creating the random graphs"
   ]
  },
  {
   "cell_type": "markdown",
   "metadata": {},
   "source": [
    "We have decided to compute the sigma value with respect to 2 different sets of random graphs. The first set is made of random graphs built thanks to the Erdős–Rényi model, by using the number of nodes and the probability we found before. The second is composed by random graphs built by using the number of nodes and edges as parameters."
   ]
  },
  {
   "cell_type": "markdown",
   "metadata": {},
   "source": [
    "    a. ER graphs with nodes and probability"
   ]
  },
  {
   "cell_type": "markdown",
   "metadata": {},
   "source": [
    "Now, we compute ten <i>ER random graphs</i> using the number of nodes and the probability value just obtained. Thus, we compute the average clustering coefficient and the average shortest path of the set of networks."
   ]
  },
  {
   "cell_type": "code",
   "execution_count": null,
   "metadata": {},
   "outputs": [],
   "source": [
    "i = 0\n",
    "er_clusters_list = list()\n",
    "er_shortest_list = list()\n",
    "for network in tqdm(range(0, 11)):\n",
    "    G = nx.erdos_renyi_graph(n,p)\n",
    "    er_clusters_list.append(nx.average_clustering(G))\n",
    "    er_shortest_list.append(nx.average_shortest_path_length(G))\n",
    "    i+=1\n",
    "\n",
    "er_L_r = st.mean(er_shortest_list) # average shortest path length of the random network\n",
    "er_C_r = st.mean(er_clusters_list) # average clustering coefficient of the random network\n",
    "\n",
    "print(\"Average shortest path length: \", er_L_r, \"standard deviation: \", st.stdev(er_shortest_list))\n",
    "print(\"Average clustering coefficient: \", er_C_r, \"standard deviation: \", st.stdev(er_clusters_list))"
   ]
  },
  {
   "cell_type": "markdown",
   "metadata": {},
   "source": [
    "    b. Random graphs with nodes and edges"
   ]
  },
  {
   "cell_type": "markdown",
   "metadata": {},
   "source": [
    "Now, we compute ten <i>random graphs</i> passing as parameters the number of nodes and edges of our real graph. Thus, we compute the average clustering coefficient and the average shortest path of the set of networks."
   ]
  },
  {
   "cell_type": "code",
   "execution_count": null,
   "metadata": {},
   "outputs": [
    {
     "name": "stderr",
     "output_type": "stream",
     "text": [
      "100%|██████████| 11/11 [05:36<00:00, 30.57s/it]\n"
     ]
    }
   ],
   "source": [
    "i=0\n",
    "er_clusters_list = list()\n",
    "er_shortest_list = list()\n",
    "for iteration in tqdm(range(0, 11)):\n",
    "    G = nx.gnm_random_graph(n,E)\n",
    "    er_clusters_list.append(nx.average_clustering(G))\n",
    "    er_shortest_list.append(nx.average_shortest_path_length(G))\n",
    "    i+=1\n",
    "\n",
    "rand_L_r = st.mean(er_shortest_list) # average shortest path length of the random network\n",
    "rand_C_r = st.mean(er_clusters_list) # average clustering coefficient of the random network\n",
    "\n",
    "print(\"Average shortest path length: \", rand_L_r, \"standard deviation: \", st.stdev(er_shortest_list))\n",
    "print(\"Average clustering coefficient: \", rand_C_r, \"standard deviation: \", st.stdev(er_clusters_list))"
   ]
  },
  {
   "cell_type": "markdown",
   "metadata": {},
   "source": [
    "##### Computing the Sigma value"
   ]
  },
  {
   "cell_type": "markdown",
   "metadata": {},
   "source": [
    "    a. With respect to the ER graphs"
   ]
  },
  {
   "cell_type": "code",
   "execution_count": null,
   "metadata": {},
   "outputs": [],
   "source": [
    "N = C/er_C_r # clustering coefficient\n",
    "D = L/er_L_r # shortest path length\n",
    "\n",
    "er_sigma_value = N/D\n",
    "\n",
    "print(N, D, er_sigma_value)"
   ]
  },
  {
   "cell_type": "markdown",
   "metadata": {},
   "source": [
    "    b. With respect to the random graphs"
   ]
  },
  {
   "cell_type": "code",
   "execution_count": null,
   "metadata": {},
   "outputs": [],
   "source": [
    "N = C/rand_C_r\n",
    "D = L/rand_L_r\n",
    "\n",
    "rand_sigma_value = N/D\n",
    "print(N, D, rand_sigma_value)"
   ]
  },
  {
   "cell_type": "markdown",
   "metadata": {},
   "source": [
    "#### Journals network"
   ]
  },
  {
   "cell_type": "markdown",
   "metadata": {},
   "source": [
    "##### Computing the clustering coefficient $C$ and the average path length $L$ of our network."
   ]
  },
  {
   "cell_type": "code",
   "execution_count": 5,
   "metadata": {},
   "outputs": [
    {
     "name": "stdout",
     "output_type": "stream",
     "text": [
      "C =  0.33300640976926094\n"
     ]
    }
   ],
   "source": [
    "# Compute C\n",
    "C = nx.average_clustering(journals_network)\n",
    "print(\"C = \", C)"
   ]
  },
  {
   "cell_type": "code",
   "execution_count": 15,
   "metadata": {},
   "outputs": [
    {
     "name": "stdout",
     "output_type": "stream",
     "text": [
      "[2.989171113335879]\n",
      "L =  2.989171113335879\n",
      "L =  2.989171113335879\n"
     ]
    }
   ],
   "source": [
    "L_list = list() # list of L values\n",
    "for N in (journals_network.subgraph(n).copy() for n in nx.connected_components(journals_network)): # for each connected component of the network (N) \n",
    "    L_list.append(nx.average_shortest_path_length(N)) # compute L and append it to the list\n",
    "\n",
    "if len(L_list) > 1:\n",
    "    computable_L_list = [L for L in L_list if L != 1.0] # remove the 0 values\n",
    "    if len(computable_L_list) == 1:\n",
    "        L = computable_L_list[0]\n",
    "    else:\n",
    "        L = st.mean(computable_L_list)\n",
    "else:\n",
    "    L = L_list[0]\n",
    "\n",
    "print(\"L = \", L)"
   ]
  },
  {
   "cell_type": "markdown",
   "metadata": {},
   "source": [
    "##### Retrieve the number of edges $E$ and nodes $n$ in the network and the probability $p$ of finding an edge between two random nodes in the graph."
   ]
  },
  {
   "cell_type": "code",
   "execution_count": 6,
   "metadata": {},
   "outputs": [
    {
     "name": "stdout",
     "output_type": "stream",
     "text": [
      "E =  39100\n",
      "n =  5661\n"
     ]
    }
   ],
   "source": [
    "E = journals_network.number_of_edges()\n",
    "n = journals_network.number_of_nodes()\n",
    "p = (E)/(((n-1)*n)/2)\n",
    "\n",
    "\n",
    "print(\"E = \", E)\n",
    "print(\"n = \", n)\n",
    "print(\"p = \", p)"
   ]
  },
  {
   "cell_type": "markdown",
   "metadata": {},
   "source": [
    "##### Creating the random graphs"
   ]
  },
  {
   "cell_type": "markdown",
   "metadata": {},
   "source": [
    "As it has been done before, we compute the sigma value with respect to 2 different sets of random graphs. The first set is made of random graphs built thanks to the Erdős–Rényi model, by using the number of nodes and the probability we found before. The second is composed by random graphs built by using the number of nodes and edges as parameters."
   ]
  },
  {
   "cell_type": "markdown",
   "metadata": {},
   "source": [
    "    a. ER graphs with nodes and probability"
   ]
  },
  {
   "cell_type": "markdown",
   "metadata": {},
   "source": [
    "Now, we compute ten <i>ER random graphs</i> using the number of nodes and the probability value just obtained. Thus, we compute the average clustering coefficient and the average shortest path of the set of networks."
   ]
  },
  {
   "cell_type": "code",
   "execution_count": 8,
   "metadata": {},
   "outputs": [
    {
     "name": "stderr",
     "output_type": "stream",
     "text": [
      "100%|██████████| 11/11 [16:19<00:00, 89.04s/it]\n"
     ]
    }
   ],
   "source": [
    "i=0\n",
    "er_clusters_list = list()\n",
    "er_shortest_list = list()\n",
    "for iteration in tqdm(range(0, 11)):\n",
    "    G = nx.erdos_renyi_graph(n,p)\n",
    "    er_clusters_list.append(nx.average_clustering(G))\n",
    "    er_shortest_list.append(nx.average_shortest_path_length(G))\n",
    "    i+=1\n",
    "\n",
    "er_L_r = st.mean(er_shortest_list)\n",
    "er_C_r = st.mean(er_clusters_list)\n",
    "\n",
    "print(\"Average shortest path length: \", er_L_r, \"standard deviation: \", st.stdev(er_shortest_list))\n",
    "print(\"Average clustering coefficient: \", er_C_r, \"standard deviation: \", st.stdev(er_clusters_list))"
   ]
  },
  {
   "cell_type": "markdown",
   "metadata": {},
   "source": [
    "    b. Random graphs with nodes and edges"
   ]
  },
  {
   "cell_type": "code",
   "execution_count": null,
   "metadata": {},
   "outputs": [],
   "source": [
    "i=0\n",
    "er_clusters_list = list()\n",
    "er_shortest_list = list()\n",
    "for iteration in tqdm(range(0, 11)):\n",
    "    G = nx.gnm_random_graph(n,E)\n",
    "    er_clusters_list.append(nx.average_clustering(G))\n",
    "    er_shortest_list.append(nx.average_shortest_path_length(G))\n",
    "    i+=1\n",
    "\n",
    "rand_L_r = st.mean(er_shortest_list)\n",
    "rand_C_r = st.mean(er_clusters_list)\n",
    "\n",
    "print(\"Average shortest path length: \", rand_L_r, \"standard deviation: \", st.stdev(er_shortest_list))\n",
    "print(\"Average clustering coefficient: \", rand_C_r, \"standard deviation: \", st.stdev(er_clusters_list))"
   ]
  },
  {
   "cell_type": "markdown",
   "metadata": {},
   "source": [
    "##### Computing the Sigma values"
   ]
  },
  {
   "cell_type": "markdown",
   "metadata": {},
   "source": [
    "    a. With respect to the ER graphs"
   ]
  },
  {
   "cell_type": "code",
   "execution_count": 10,
   "metadata": {},
   "outputs": [
    {
     "name": "stdout",
     "output_type": "stream",
     "text": [
      "132.05345952052573 0.8328601256409661 158.5541862973664\n"
     ]
    }
   ],
   "source": [
    "N = C/er_C_r\n",
    "D = L/er_L_r\n",
    "er_sigma_value = N/D\n",
    "\n",
    "print(N, D, er_sigma_value)"
   ]
  },
  {
   "cell_type": "markdown",
   "metadata": {},
   "source": [
    "    b. With respect to the random graphs"
   ]
  },
  {
   "cell_type": "code",
   "execution_count": null,
   "metadata": {},
   "outputs": [
    {
     "name": "stdout",
     "output_type": "stream",
     "text": [
      "139.7518096219451 0.8332504458567752 167.71885369739917\n"
     ]
    }
   ],
   "source": [
    "N = C/rand_C_r\n",
    "D = L/rand_L_r\n",
    "rand_sigma_value = N/D\n",
    "\n",
    "print(N, D, rand_sigma_value)"
   ]
  },
  {
   "cell_type": "markdown",
   "metadata": {},
   "source": [
    "<span style=\"color:red\">In the end, the sigma value remains pretty similar for both the ways of computing ER random graphs.</span>"
   ]
  },
  {
   "cell_type": "markdown",
   "metadata": {},
   "source": [
    "------------"
   ]
  },
  {
   "cell_type": "markdown",
   "metadata": {},
   "source": [
    "Compute omega values.\n",
    "</br>\n",
    "$$\\omega=\\dfrac{L_r}{L}-\\dfrac{C}{C_l}$$\n"
   ]
  },
  {
   "cell_type": "markdown",
   "metadata": {},
   "source": [
    "Where $L_r$ is computed from a random graph and, $C_l$ is computed from a lattice graph.\n",
    "</br>\n",
    "$\\omega$ should be between 0 and 1."
   ]
  },
  {
   "cell_type": "markdown",
   "metadata": {},
   "source": [
    "#### B)"
   ]
  },
  {
   "cell_type": "markdown",
   "metadata": {},
   "source": [
    "Seen that $L_r$, $L$ and $C$ have yet been computed, we just need to define $C_L$ for lattice graph."
   ]
  },
  {
   "cell_type": "code",
   "execution_count": null,
   "metadata": {},
   "outputs": [],
   "source": [
    "latticized_jn = nx.lattice_reference(journals_network)"
   ]
  },
  {
   "cell_type": "markdown",
   "metadata": {},
   "source": [
    "Extract $C_l$."
   ]
  },
  {
   "cell_type": "code",
   "execution_count": null,
   "metadata": {},
   "outputs": [],
   "source": [
    "C_l = nx.average_clustering(latticized_jn)"
   ]
  },
  {
   "cell_type": "markdown",
   "metadata": {},
   "source": [
    "## Scale freedom "
   ]
  },
  {
   "cell_type": "markdown",
   "metadata": {},
   "source": [
    "A scale free network is a network whose nodes' degree follow a power law distribution (since it is dependent on a power). It is said to be scale free since one attribute of power laws is their scale invariance. In fact, given a relation Given a relation $f(x)=ax^{−k}$, scaling the argument $x$ by a constant factor $c$ causes only a proportionate scaling of the function itself.\n",
    "\n",
    "A power law distribution is descrbed by the following formula:\n",
    "$$p_d=Cd^{-\\alpha}$$\n",
    "\n",
    "Where $\\alpha$ and $C$  are the two contants modifying the slope and normalize the curve of the diatribution, while $d$ is the degree and $p_d$ is the fraction of nodes with degree $d$."
   ]
  },
  {
   "cell_type": "markdown",
   "metadata": {},
   "source": [
    "### Plotting the degree distribution "
   ]
  },
  {
   "cell_type": "markdown",
   "metadata": {},
   "source": [
    "To detect whether or not the distribution we are dealing with is a power law distribution, we first plot it in a normal and in a log-log scale to understand if it presents a identifiable long tale and a line behaviour respectively."
   ]
  },
  {
   "cell_type": "markdown",
   "metadata": {},
   "source": [
    "#### Journals network"
   ]
  },
  {
   "cell_type": "code",
   "execution_count": 59,
   "metadata": {},
   "outputs": [
    {
     "data": {
      "text/html": [
       "<div>\n",
       "<style scoped>\n",
       "    .dataframe tbody tr th:only-of-type {\n",
       "        vertical-align: middle;\n",
       "    }\n",
       "\n",
       "    .dataframe tbody tr th {\n",
       "        vertical-align: top;\n",
       "    }\n",
       "\n",
       "    .dataframe thead th {\n",
       "        text-align: right;\n",
       "    }\n",
       "</style>\n",
       "<table border=\"1\" class=\"dataframe\">\n",
       "  <thead>\n",
       "    <tr style=\"text-align: right;\">\n",
       "      <th></th>\n",
       "      <th>degree</th>\n",
       "    </tr>\n",
       "  </thead>\n",
       "  <tbody>\n",
       "    <tr>\n",
       "      <th>0</th>\n",
       "      <td>64</td>\n",
       "    </tr>\n",
       "    <tr>\n",
       "      <th>1</th>\n",
       "      <td>617</td>\n",
       "    </tr>\n",
       "    <tr>\n",
       "      <th>2</th>\n",
       "      <td>60</td>\n",
       "    </tr>\n",
       "    <tr>\n",
       "      <th>3</th>\n",
       "      <td>249</td>\n",
       "    </tr>\n",
       "    <tr>\n",
       "      <th>4</th>\n",
       "      <td>90</td>\n",
       "    </tr>\n",
       "    <tr>\n",
       "      <th>...</th>\n",
       "      <td>...</td>\n",
       "    </tr>\n",
       "    <tr>\n",
       "      <th>5656</th>\n",
       "      <td>1</td>\n",
       "    </tr>\n",
       "    <tr>\n",
       "      <th>5657</th>\n",
       "      <td>1</td>\n",
       "    </tr>\n",
       "    <tr>\n",
       "      <th>5658</th>\n",
       "      <td>1</td>\n",
       "    </tr>\n",
       "    <tr>\n",
       "      <th>5659</th>\n",
       "      <td>1</td>\n",
       "    </tr>\n",
       "    <tr>\n",
       "      <th>5660</th>\n",
       "      <td>1</td>\n",
       "    </tr>\n",
       "  </tbody>\n",
       "</table>\n",
       "<p>5661 rows × 1 columns</p>\n",
       "</div>"
      ],
      "text/plain": [
       "      degree\n",
       "0         64\n",
       "1        617\n",
       "2         60\n",
       "3        249\n",
       "4         90\n",
       "...      ...\n",
       "5656       1\n",
       "5657       1\n",
       "5658       1\n",
       "5659       1\n",
       "5660       1\n",
       "\n",
       "[5661 rows x 1 columns]"
      ]
     },
     "execution_count": 59,
     "metadata": {},
     "output_type": "execute_result"
    }
   ],
   "source": [
    "jn_degree_distribution_list = []\n",
    "for node in journals_network: \n",
    "    jn_degree_distribution_list.append(journals_network.degree(node)) # compute the degree of each node and append it to the list of degrees\n",
    "\n",
    "jn_dist_df = pd.DataFrame()\n",
    "jn_dist_df['degree'] = jn_degree_distribution_list # create a dataframe with the list of degrees as a column\n",
    "jn_dist_df"
   ]
  },
  {
   "cell_type": "code",
   "execution_count": 64,
   "metadata": {},
   "outputs": [
    {
     "data": {
      "text/plain": [
       "<seaborn.axisgrid.FacetGrid at 0x133d43dc0>"
      ]
     },
     "execution_count": 64,
     "metadata": {},
     "output_type": "execute_result"
    },
    {
     "data": {
      "image/png": "[encoded data removed]",
      "text/plain": [
       "<Figure size 1008x720 with 1 Axes>"
      ]
     },
     "metadata": {
      "needs_background": "light"
     },
     "output_type": "display_data"
    }
   ],
   "source": [
    "jn_dist_viz = sns.displot(jn_dist_df['degree'], height=10, aspect=7/5, bins=75)\n",
    "jn_dist_viz.set(xlabel='Degree', ylabel='Frequency', title='Degree distribution of the journals network')\n",
    "jn_dist_viz"
   ]
  },
  {
   "cell_type": "code",
   "execution_count": 65,
   "metadata": {},
   "outputs": [
    {
     "data": {
      "text/plain": [
       "<seaborn.axisgrid.FacetGrid at 0x1331a5210>"
      ]
     },
     "execution_count": 65,
     "metadata": {},
     "output_type": "execute_result"
    },
    {
     "data": {
      "image/png": "[encoded data removed]",
      "text/plain": [
       "<Figure size 1008x720 with 1 Axes>"
      ]
     },
     "metadata": {
      "needs_background": "light"
     },
     "output_type": "display_data"
    }
   ],
   "source": [
    "jn_dist_viz = sns.displot(jn_dist_df['degree'], height=10, aspect=7/5, bins=75, log_scale=(True, True))\n",
    "jn_dist_viz.set(xlabel='Degree', ylabel='Frequency', title='Degree distribution of the journals network - log-log scale')\n",
    "jn_dist_viz"
   ]
  },
  {
   "cell_type": "markdown",
   "metadata": {},
   "source": [
    "#### Papers network"
   ]
  },
  {
   "cell_type": "code",
   "execution_count": 63,
   "metadata": {},
   "outputs": [
    {
     "data": {
      "text/html": [
       "<div>\n",
       "<style scoped>\n",
       "    .dataframe tbody tr th:only-of-type {\n",
       "        vertical-align: middle;\n",
       "    }\n",
       "\n",
       "    .dataframe tbody tr th {\n",
       "        vertical-align: top;\n",
       "    }\n",
       "\n",
       "    .dataframe thead th {\n",
       "        text-align: right;\n",
       "    }\n",
       "</style>\n",
       "<table border=\"1\" class=\"dataframe\">\n",
       "  <thead>\n",
       "    <tr style=\"text-align: right;\">\n",
       "      <th></th>\n",
       "      <th>degree</th>\n",
       "    </tr>\n",
       "  </thead>\n",
       "  <tbody>\n",
       "    <tr>\n",
       "      <th>0</th>\n",
       "      <td>54</td>\n",
       "    </tr>\n",
       "    <tr>\n",
       "      <th>1</th>\n",
       "      <td>13</td>\n",
       "    </tr>\n",
       "    <tr>\n",
       "      <th>2</th>\n",
       "      <td>61</td>\n",
       "    </tr>\n",
       "    <tr>\n",
       "      <th>3</th>\n",
       "      <td>7</td>\n",
       "    </tr>\n",
       "    <tr>\n",
       "      <th>4</th>\n",
       "      <td>8</td>\n",
       "    </tr>\n",
       "    <tr>\n",
       "      <th>...</th>\n",
       "      <td>...</td>\n",
       "    </tr>\n",
       "    <tr>\n",
       "      <th>49714</th>\n",
       "      <td>1</td>\n",
       "    </tr>\n",
       "    <tr>\n",
       "      <th>49715</th>\n",
       "      <td>1</td>\n",
       "    </tr>\n",
       "    <tr>\n",
       "      <th>49716</th>\n",
       "      <td>1</td>\n",
       "    </tr>\n",
       "    <tr>\n",
       "      <th>49717</th>\n",
       "      <td>1</td>\n",
       "    </tr>\n",
       "    <tr>\n",
       "      <th>49718</th>\n",
       "      <td>1</td>\n",
       "    </tr>\n",
       "  </tbody>\n",
       "</table>\n",
       "<p>49719 rows × 1 columns</p>\n",
       "</div>"
      ],
      "text/plain": [
       "       degree\n",
       "0          54\n",
       "1          13\n",
       "2          61\n",
       "3           7\n",
       "4           8\n",
       "...       ...\n",
       "49714       1\n",
       "49715       1\n",
       "49716       1\n",
       "49717       1\n",
       "49718       1\n",
       "\n",
       "[49719 rows x 1 columns]"
      ]
     },
     "execution_count": 63,
     "metadata": {},
     "output_type": "execute_result"
    }
   ],
   "source": [
    "pn_degree_distribution_list = []\n",
    "for node in papers_network: \n",
    "    pn_degree_distribution_list.append(papers_network.degree(node)) # compute the degree of each node and append it to the list of degrees\n",
    "\n",
    "pn_dist_df = pd.DataFrame()\n",
    "pn_dist_df['degree'] = pn_degree_distribution_list # create a dataframe with the list of degrees as a column\n",
    "pn_dist_df"
   ]
  },
  {
   "cell_type": "code",
   "execution_count": 66,
   "metadata": {},
   "outputs": [
    {
     "data": {
      "text/plain": [
       "<seaborn.axisgrid.FacetGrid at 0x132bb17e0>"
      ]
     },
     "execution_count": 66,
     "metadata": {},
     "output_type": "execute_result"
    },
    {
     "data": {
      "image/png": "[encoded data removed]",
      "text/plain": [
       "<Figure size 1008x720 with 1 Axes>"
      ]
     },
     "metadata": {
      "needs_background": "light"
     },
     "output_type": "display_data"
    }
   ],
   "source": [
    "pn_dist_viz = sns.displot(pn_dist_df['degree'], height=10, aspect=7/5, bins=75)\n",
    "pn_dist_viz.set(xlabel='Degree', ylabel='Frequency', title='Degree distribution of the journals network')\n",
    "pn_dist_viz"
   ]
  },
  {
   "cell_type": "code",
   "execution_count": 67,
   "metadata": {},
   "outputs": [
    {
     "data": {
      "text/plain": [
       "<seaborn.axisgrid.FacetGrid at 0x133e5e0e0>"
      ]
     },
     "execution_count": 67,
     "metadata": {},
     "output_type": "execute_result"
    },
    {
     "data": {
      "image/png": "[encoded data removed]",
      "text/plain": [
       "<Figure size 1008x720 with 1 Axes>"
      ]
     },
     "metadata": {
      "needs_background": "light"
     },
     "output_type": "display_data"
    }
   ],
   "source": [
    "pn_dist_viz = sns.displot(pn_dist_df['degree'], height=10, aspect=7/5, bins=75, log_scale=(True, True))\n",
    "pn_dist_viz.set(xlabel='Degree', ylabel='Frequency', title='Degree distribution of the journals network')\n",
    "pn_dist_viz"
   ]
  },
  {
   "cell_type": "markdown",
   "metadata": {},
   "source": [
    "### Computing the scaling coefficient\n",
    "To be sure that our conclusions are not based on biased visual interpretations, we measure how close our distribution is to a power law distribution by compute the scaling coefficient $\\alpha$ as follows:\n",
    "\n",
    "$$\\alpha=1+n(\\sum_i ln \\frac{d_i}{d_{min}-1/2})^{-1}$$\n",
    "\n",
    "Where:\n",
    "- $n$ is the number of nodes in our network.\n",
    "- $d_i$ is the degree of the node $i$.\n",
    "- $d_{min}$ is the minimum degree found in our graph.\n",
    "\n",
    "Finding an $\\alpha$ value such that $2 \\le \\alpha \\le 3$ means that our network is a scale free newtork."
   ]
  },
  {
   "cell_type": "markdown",
   "metadata": {},
   "source": [
    "#### Journals network"
   ]
  },
  {
   "cell_type": "code",
   "execution_count": 57,
   "metadata": {},
   "outputs": [
    {
     "name": "stdout",
     "output_type": "stream",
     "text": [
      "alpha =  1.5434686393381751\n"
     ]
    }
   ],
   "source": [
    "sum_val = 0\n",
    "\n",
    "for degree in jn_degree_distribution_list:\n",
    "    sum_val += log(degree/(1-1/2)) # compute the sum of the log of the degrees divided by the minimum degree in our netwrork (1) - 1/2\n",
    "\n",
    "\n",
    "jn_alpha_sc = 1+len(jn_degree_distribution_list)*(sum_val)**-1 #compute alpha\n",
    "print(\"alpha = \", jn_alpha_sc)"
   ]
  },
  {
   "cell_type": "markdown",
   "metadata": {},
   "source": [
    "We can conclude that the nodes' degree of our network do not follow a power law distribution, therefore our network cannot be said to be scale-free."
   ]
  },
  {
   "cell_type": "markdown",
   "metadata": {},
   "source": [
    "#### Papers network"
   ]
  },
  {
   "cell_type": "code",
   "execution_count": 68,
   "metadata": {},
   "outputs": [
    {
     "name": "stdout",
     "output_type": "stream",
     "text": [
      "alpha =  1.7225756547006679\n"
     ]
    }
   ],
   "source": [
    "sum_val = 0\n",
    "\n",
    "for degree in pn_degree_distribution_list:\n",
    "    sum_val += log(degree/(1-1/2)) # compute the sum of the log of the degrees divided by the minimum degree in our netwrork (1) - 1/2\n",
    "\n",
    "\n",
    "pn_alpha_sc = 1+len(pn_degree_distribution_list)*(sum_val)**-1 #compute alpha\n",
    "print(\"alpha = \", pn_alpha_sc)"
   ]
  },
  {
   "cell_type": "markdown",
   "metadata": {},
   "source": [
    "We can conclude that the nodes' degree of our network do not follow a power law distribution, therefore our network cannot be said to be scale-free."
   ]
  },
  {
   "cell_type": "markdown",
   "metadata": {},
   "source": [
    "## Modularity"
   ]
  },
  {
   "cell_type": "markdown",
   "metadata": {},
   "source": [
    "Modularity measures the strength of division of a network into modules. In particular, the extent to which similar nodes are likely to connect to each other.\n",
    "\n",
    "Basically, it is the fraction of the edges falling within the given groups minus the expected fraction if edges were distributed at random.\n",
    "\n",
    "Modularity's value for an unweighted undirected graph lies in the range ${\\displaystyle [-1/2,1]}$. It is positive if the number of edges within groups exceeds the number expected on the basis of chance. High modularity is symptome of dense connections between the nodes within modules but sparse connections between nodes in different modules."
   ]
  },
  {
   "cell_type": "markdown",
   "metadata": {},
   "source": [
    "To understand the modularity of a network, we have to find the value of $Q$, that is the modularity coefficient and is computed as:\n",
    "\n",
    "$$Q=\\frac{1}{2m}\\sum_{ij}(A_{ij}-\\frac{d_id_j}{2m})\\delta_{g_ig_j}$$\n",
    "\n",
    "Where:\n",
    "- $m$ is the number of edges.\n",
    "- $A$ is the adjacency matrix of the network.\n",
    "- $d_i$ and $d_j$ are the degrees of the nodes $i$ and $j$.\n",
    "- $\\delta_{g_ig_j}$ is 1 if $i$ and $j$ are in the same community, else 0."
   ]
  },
  {
   "cell_type": "markdown",
   "metadata": {},
   "source": [
    "To compute modularity we directly use networkX. In particular, our network is passed as input to the `modularity()` method as well as the result of the application of the **label propagation communities** algorithm to (again) our network. This algorithm is able to detect communities in the input undirected graph."
   ]
  },
  {
   "cell_type": "markdown",
   "metadata": {},
   "source": [
    "#### Journals network"
   ]
  },
  {
   "cell_type": "code",
   "execution_count": 87,
   "metadata": {},
   "outputs": [
    {
     "name": "stdout",
     "output_type": "stream",
     "text": [
      "Modularity of the journals network:  0.0066511633231074495\n"
     ]
    }
   ],
   "source": [
    "jn_modularity = nx_comm.modularity(journals_network, nx_comm.label_propagation_communities(journals_network)) \n",
    "print(\"Modularity of the journals network: \", jn_modularity)"
   ]
  },
  {
   "cell_type": "markdown",
   "metadata": {},
   "source": [
    "#### Papers network"
   ]
  },
  {
   "cell_type": "code",
   "execution_count": 88,
   "metadata": {},
   "outputs": [
    {
     "name": "stdout",
     "output_type": "stream",
     "text": [
      "Modularity of the papers network:  0.36200907667603377\n"
     ]
    }
   ],
   "source": [
    "pn_modularity = nx_comm.modularity(papers_network, nx_comm.label_propagation_communities(papers_network))\n",
    "print(\"Modularity of the papers network: \", pn_modularity)"
   ]
  }
 ],
 "metadata": {
  "kernelspec": {
   "display_name": "Python 3.10.5 64-bit",
   "language": "python",
   "name": "python3"
  },
  "language_info": {
   "codemirror_mode": {
    "name": "ipython",
    "version": 3
   },
   "file_extension": ".py",
   "mimetype": "text/x-python",
   "name": "python",
   "nbconvert_exporter": "python",
   "pygments_lexer": "ipython3",
   "version": "3.10.0"
  },
  "orig_nbformat": 4,
  "vscode": {
   "interpreter": {
    "hash": "aee8b7b246df8f9039afb4144a1f6fd8d2ca17a180786b69acc140d282b71a49"
   }
  }
 },
 "nbformat": 4,
 "nbformat_minor": 2
}
