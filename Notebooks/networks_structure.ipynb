{
 "cells": [
  {
   "cell_type": "markdown",
   "metadata": {},
   "source": [
    "# Small world-ness, scale freedom, and modularity analyses"
   ]
  },
  {
   "cell_type": "markdown",
   "metadata": {},
   "source": [
    "Set up environment."
   ]
  },
  {
   "cell_type": "code",
   "execution_count": 6,
   "metadata": {},
   "outputs": [],
   "source": [
    "import networkx as nx\n",
    "from tqdm import tqdm\n",
    "import statistics as st\n",
    "import pandas as pd\n",
    "from math import log # is yet the natural logarithm ln\n",
    "import seaborn as sns"
   ]
  },
  {
   "cell_type": "markdown",
   "metadata": {},
   "source": [
    "Build an undirected network for papers and one for journals"
   ]
  },
  {
   "cell_type": "code",
   "execution_count": 2,
   "metadata": {},
   "outputs": [],
   "source": [
    "papers_network = nx.read_gml(\"../gml format networks/undirected_papers_network.gml\")\n",
    "journals_network = nx.read_gml(\"../gml format networks/undirected_journals_network.gml\")"
   ]
  },
  {
   "cell_type": "markdown",
   "metadata": {},
   "source": [
    "## Small worldness"
   ]
  },
  {
   "cell_type": "markdown",
   "metadata": {},
   "source": [
    "The two values $\\sigma$ and $\\omega$ allow to determine whether a network is charcaterized by a small-world effect or not."
   ]
  },
  {
   "cell_type": "markdown",
   "metadata": {},
   "source": [
    "The small world coefficient $\\sigma$ is computed as:\n",
    "</br>\n",
    "$$\\sigma= \\dfrac{\\dfrac{C}{C_r}}{\\dfrac{L}{L_r}}$$\n",
    "</br>"
   ]
  },
  {
   "cell_type": "markdown",
   "metadata": {},
   "source": [
    "Where $C$ is the clustering coefficient of our network and $C_r$ is the clusetering coefficient of an equivalent random graph, while $L$ and $L_r$ are the average shortest path values for our network and an equivalent random graph, respectively.\n",
    "\n",
    "A graph is commonly classified as small-world if $\\sigma \\gt 1$."
   ]
  },
  {
   "cell_type": "markdown",
   "metadata": {},
   "source": [
    "The small world coefficient $\\omega$ is computed as:\n",
    "</br>\n",
    "$$\\omega=\\dfrac{L_r}{L}-\\dfrac{C}{C_l}$$\n"
   ]
  },
  {
   "cell_type": "markdown",
   "metadata": {},
   "source": [
    "Where $C$ and $L$ are respectively the average clustering coefficient and average shortest path length of our network, while $L_r$ is the average shortest path length of an equivalent random graph and $C_l$ is the average clustering coefficient of an equivalent lattice graph.\n",
    "\n",
    "$\\omega$ measures if our graph is like a lattice or a random graph. Negative values mean that our network is similar to a lattice, whereas positive values mean that it is more likely to be similar to a random graph. Values close to 0 mean that it has small-world characteristics."
   ]
  },
  {
   "cell_type": "markdown",
   "metadata": {},
   "source": [
    "### 1) Network of papers "
   ]
  },
  {
   "cell_type": "markdown",
   "metadata": {},
   "source": [
    "#### 1.$\\sigma$) Computing the sigma value"
   ]
  },
  {
   "cell_type": "markdown",
   "metadata": {},
   "source": [
    "##### Computing the clustering coefficient $C$ and the average path length $L$ of our network."
   ]
  },
  {
   "cell_type": "code",
   "execution_count": null,
   "metadata": {},
   "outputs": [],
   "source": [
    "# Compute C\n",
    "C = nx.average_clustering(papers_network)\n",
    "print(\"C = \", C)"
   ]
  },
  {
   "cell_type": "code",
   "execution_count": null,
   "metadata": {},
   "outputs": [],
   "source": [
    "# Compute L\n",
    "L_list = list() # list of L values\n",
    "for N in (papers_network.subgraph(n).copy() for n in nx.connected_components(papers_network)): # for each connected component of the network (N) \n",
    "    L_list.append(nx.average_shortest_path_length(N)) # compute L and append it to the list\n",
    "\n",
    "if len(L_list) > 1:\n",
    "    computable_L_list = [L for L in L_list if L != 1.0] # remove the 0 values\n",
    "    if len(computable_L_list) == 1:\n",
    "        L = computable_L_list[0]\n",
    "    else:\n",
    "        L = st.mean(computable_L_list)\n",
    "else:\n",
    "    L = L_list[0]\n",
    "\n",
    "print(\"L = \", L)"
   ]
  },
  {
   "cell_type": "markdown",
   "metadata": {},
   "source": [
    "##### Retrieve the number of edges $E$ and nodes $n$ in the network, and the probability $p$ of finding an edge between two random nodes in the graph."
   ]
  },
  {
   "cell_type": "code",
   "execution_count": null,
   "metadata": {},
   "outputs": [],
   "source": [
    "E = papers_network.nx.number_of_edges()\n",
    "n = papers_network.nx.number_of_nodes()\n",
    "p = (2*E)/((n-1)*n)\n",
    "\n",
    "print(\"E = \", E)\n",
    "print(\"n = \", n)\n",
    "print(\"p = \", p)"
   ]
  },
  {
   "cell_type": "markdown",
   "metadata": {},
   "source": [
    "##### Create a random graph"
   ]
  },
  {
   "cell_type": "markdown",
   "metadata": {},
   "source": [
    "##### I) ER with nodes and probability <span style=\"color:red\">!!!!! NON È UN ER RANDOM GRAPH !!!!</span>"
   ]
  },
  {
   "cell_type": "markdown",
   "metadata": {},
   "source": [
    "Now, we compute ten <i>ER random graphs</i> with respect to the probability value just obtained."
   ]
  },
  {
   "cell_type": "code",
   "execution_count": null,
   "metadata": {},
   "outputs": [],
   "source": [
    "i = 0\n",
    "er_clusters_list = list()\n",
    "er_shortest_list = list()\n",
    "for network in tqdm(range(0, 11)):\n",
    "    G = nx.erdos_renyi_graph(n,p)\n",
    "    er_clusters_list.append(nx.average_clustering(G))\n",
    "    er_shortest_list.append(nx.average_shortest_path_length(G))\n",
    "    i+=1"
   ]
  },
  {
   "cell_type": "markdown",
   "metadata": {},
   "source": [
    "Print the average clustering coefficient and the average shortest path of the ER random graphs."
   ]
  },
  {
   "cell_type": "code",
   "execution_count": null,
   "metadata": {},
   "outputs": [],
   "source": [
    "L_r = st.mean(er_shortest_list)\n",
    "C_r = st.mean(er_clusters_list)\n",
    "print(\"Average clustering coefficient: \", st.mean(er_clusters_list), \"standard deviation: \", st.stdev(er_clusters_list))\n",
    "print(\"Average shortest path: \", st.mean(er_shortest_list), \"standard deviation: \", st.stdev(er_shortest_list))"
   ]
  },
  {
   "cell_type": "markdown",
   "metadata": {},
   "source": [
    "#### Compute the Sigma value"
   ]
  },
  {
   "cell_type": "code",
   "execution_count": null,
   "metadata": {},
   "outputs": [],
   "source": [
    "N = C/C_r\n",
    "D = L/L_r\n",
    "sigma_value = N/D\n",
    "print(N, D, sigma_value)"
   ]
  },
  {
   "cell_type": "markdown",
   "metadata": {},
   "source": [
    "##### II) ER with nodes and edges"
   ]
  },
  {
   "cell_type": "markdown",
   "metadata": {},
   "source": [
    "Now, we compute ten <i>ER random graphs</i> with respect to the number of nodes and edges."
   ]
  },
  {
   "cell_type": "code",
   "execution_count": null,
   "metadata": {},
   "outputs": [
    {
     "name": "stderr",
     "output_type": "stream",
     "text": [
      "100%|██████████| 11/11 [05:36<00:00, 30.57s/it]\n"
     ]
    }
   ],
   "source": [
    "i=0\n",
    "er_clusters_list = list()\n",
    "er_shortest_list = list()\n",
    "for iteration in tqdm(range(0, 11)):\n",
    "    G = nx.gnm_random_graph(n,E)\n",
    "    er_clusters_list.append(nx.average_clustering(G))\n",
    "    er_shortest_list.append(nx.average_shortest_path_length(G))\n",
    "    i+=1"
   ]
  },
  {
   "cell_type": "markdown",
   "metadata": {},
   "source": [
    "Print the average clustering coefficient and the average shortest path of the ER random graphs."
   ]
  },
  {
   "cell_type": "code",
   "execution_count": null,
   "metadata": {},
   "outputs": [
    {
     "name": "stdout",
     "output_type": "stream",
     "text": [
      "Average clustering coefficient:  0.002382841486418715 standard deviation:  0.0001124815647467052\n",
      "Average shortest path:  3.5873621528786774 standard deviation:  0.0005222689601180479\n"
     ]
    }
   ],
   "source": [
    "L_r = st.mean(er_shortest_list)\n",
    "C_r = st.mean(er_clusters_list)\n",
    "print(\"Average clustering coefficient: \", st.mean(er_clusters_list), \"standard deviation: \", st.stdev(er_clusters_list))\n",
    "print(\"Average shortest path: \", st.mean(er_shortest_list), \"standard deviation: \", st.stdev(er_shortest_list))"
   ]
  },
  {
   "cell_type": "markdown",
   "metadata": {},
   "source": [
    "#### Compute the Sigma value"
   ]
  },
  {
   "cell_type": "code",
   "execution_count": null,
   "metadata": {},
   "outputs": [],
   "source": [
    "N = C/C_r\n",
    "D = L/L_r\n",
    "sigma_value = N/D\n",
    "print(N, D, sigma_value)"
   ]
  },
  {
   "cell_type": "markdown",
   "metadata": {},
   "source": [
    "##### L'AFFERMAZIONE SOTTO È DA VEDERE, ANCHE SE È QUELLO CHE CI ASPETTIAMO\n",
    "<span style=\"color:red\">In the end, the sigma value remains pretty similar for both the ways of computing ER random graphs.</span>"
   ]
  },
  {
   "cell_type": "markdown",
   "metadata": {},
   "source": [
    "### 2) Network of journals "
   ]
  },
  {
   "cell_type": "code",
   "execution_count": 15,
   "metadata": {},
   "outputs": [
    {
     "name": "stdout",
     "output_type": "stream",
     "text": [
      "[2.989171113335879]\n",
      "L =  2.989171113335879\n",
      "L =  2.989171113335879\n"
     ]
    }
   ],
   "source": [
    "L_list = list() # list of L values\n",
    "for N in (journals_network.subgraph(n).copy() for n in nx.connected_components(journals_network)): # for each connected component of the network (N) \n",
    "    L_list.append(nx.average_shortest_path_length(N)) # compute L and append it to the list\n",
    "\n",
    "if len(L_list) > 1:\n",
    "    computable_L_list = [L for L in L_list if L != 1.0] # remove the 0 values\n",
    "    if len(computable_L_list) == 1:\n",
    "        L = computable_L_list[0]\n",
    "    else:\n",
    "        L = st.mean(computable_L_list)\n",
    "else:\n",
    "    L = L_list[0]\n",
    "\n",
    "print(\"L = \", L)"
   ]
  },
  {
   "cell_type": "code",
   "execution_count": 5,
   "metadata": {},
   "outputs": [
    {
     "name": "stdout",
     "output_type": "stream",
     "text": [
      "C =  0.33300640976926094\n"
     ]
    }
   ],
   "source": [
    "# Compute C\n",
    "C = nx.average_clustering(journals_network)\n",
    "print(\"C = \", C)"
   ]
  },
  {
   "cell_type": "markdown",
   "metadata": {},
   "source": [
    "#### Retrieve the number of edges $E$ and of nodes $n$ in the network."
   ]
  },
  {
   "cell_type": "code",
   "execution_count": 6,
   "metadata": {},
   "outputs": [
    {
     "name": "stdout",
     "output_type": "stream",
     "text": [
      "E =  39100\n",
      "n =  5661\n"
     ]
    }
   ],
   "source": [
    "E = journals_network.number_of_edges()\n",
    "n = journals_network.number_of_nodes()\n",
    "print(\"E = \", E)\n",
    "print(\"n = \", n)"
   ]
  },
  {
   "cell_type": "markdown",
   "metadata": {},
   "source": [
    "#### Compute the probability $p$ of finding an edge between two random nodes in the graph."
   ]
  },
  {
   "cell_type": "code",
   "execution_count": 7,
   "metadata": {},
   "outputs": [
    {
     "name": "stdout",
     "output_type": "stream",
     "text": [
      "p =  0.002440603147316928\n"
     ]
    }
   ],
   "source": [
    "p = (E)/(((n-1)*n)/2)\n",
    "print(\"p = \", p)"
   ]
  },
  {
   "cell_type": "markdown",
   "metadata": {},
   "source": [
    "#### Create a random graph"
   ]
  },
  {
   "cell_type": "markdown",
   "metadata": {},
   "source": [
    "##### I) ER with nodes and probability"
   ]
  },
  {
   "cell_type": "markdown",
   "metadata": {},
   "source": [
    "Now, we compute ten <i>ER random graphs</i> with respect to the probability value just obtained."
   ]
  },
  {
   "cell_type": "code",
   "execution_count": 8,
   "metadata": {},
   "outputs": [
    {
     "name": "stderr",
     "output_type": "stream",
     "text": [
      "100%|██████████| 11/11 [16:19<00:00, 89.04s/it]\n"
     ]
    }
   ],
   "source": [
    "i=0\n",
    "er_clusters_list = list()\n",
    "er_shortest_list = list()\n",
    "for iteration in tqdm(range(0, 11)):\n",
    "    G = nx.erdos_renyi_graph(n,p)\n",
    "    er_clusters_list.append(nx.average_clustering(G))\n",
    "    er_shortest_list.append(nx.average_shortest_path_length(G))\n",
    "    i+=1"
   ]
  },
  {
   "cell_type": "markdown",
   "metadata": {},
   "source": [
    "Print the average clustering coefficient and the average shortest path of the ER random graphs."
   ]
  },
  {
   "cell_type": "code",
   "execution_count": 9,
   "metadata": {},
   "outputs": [
    {
     "name": "stdout",
     "output_type": "stream",
     "text": [
      "Average clustering coefficient:  0.002521754530160568 standard deviation:  0.00012973608362599\n",
      "Average shortest path:  3.589043371521027 standard deviation:  0.003637616392217271\n"
     ]
    }
   ],
   "source": [
    "L_r = st.mean(er_shortest_list)\n",
    "C_r = st.mean(er_clusters_list)\n",
    "print(\"Average clustering coefficient: \", st.mean(er_clusters_list), \"standard deviation: \", st.stdev(er_clusters_list))\n",
    "print(\"Average shortest path: \", st.mean(er_shortest_list), \"standard deviation: \", st.stdev(er_shortest_list))"
   ]
  },
  {
   "cell_type": "code",
   "execution_count": 10,
   "metadata": {},
   "outputs": [
    {
     "name": "stdout",
     "output_type": "stream",
     "text": [
      "132.05345952052573 0.8328601256409661 158.5541862973664\n"
     ]
    }
   ],
   "source": [
    "N = C/C_r\n",
    "D = L/L_r\n",
    "sigma_value = N/D\n",
    "print(N, D, sigma_value)"
   ]
  },
  {
   "cell_type": "markdown",
   "metadata": {},
   "source": [
    "##### II) ER with nodes and edges"
   ]
  },
  {
   "cell_type": "markdown",
   "metadata": {},
   "source": [
    "Now, we compute ten <i>ER random graphs</i> with respect to the number of nodes and edges."
   ]
  },
  {
   "cell_type": "code",
   "execution_count": null,
   "metadata": {},
   "outputs": [],
   "source": [
    "i=0\n",
    "er_clusters_list = list()\n",
    "er_shortest_list = list()\n",
    "for iteration in tqdm(range(0, 11)):\n",
    "    G = nx.gnm_random_graph(n,E)\n",
    "    er_clusters_list.append(nx.average_clustering(G))\n",
    "    er_shortest_list.append(nx.average_shortest_path_length(G))\n",
    "    i+=1"
   ]
  },
  {
   "cell_type": "markdown",
   "metadata": {},
   "source": [
    "Print the average clustering coefficient and the average shortest path of the ER random graphs."
   ]
  },
  {
   "cell_type": "code",
   "execution_count": null,
   "metadata": {},
   "outputs": [
    {
     "name": "stdout",
     "output_type": "stream",
     "text": [
      "Average clustering coefficient:  0.002382841486418715 standard deviation:  0.0001124815647467052\n",
      "Average shortest path:  3.5873621528786774 standard deviation:  0.0005222689601180479\n"
     ]
    }
   ],
   "source": [
    "L_r = st.mean(er_shortest_list)\n",
    "C_r = st.mean(er_clusters_list)\n",
    "print(\"Average clustering coefficient: \", st.mean(er_clusters_list), \"standard deviation: \", st.stdev(er_clusters_list))\n",
    "print(\"Average shortest path: \", st.mean(er_shortest_list), \"standard deviation: \", st.stdev(er_shortest_list))"
   ]
  },
  {
   "cell_type": "code",
   "execution_count": null,
   "metadata": {},
   "outputs": [
    {
     "name": "stdout",
     "output_type": "stream",
     "text": [
      "139.7518096219451 0.8332504458567752 167.71885369739917\n"
     ]
    }
   ],
   "source": [
    "N = C/C_r\n",
    "D = L/L_r\n",
    "sigma_value = N/D\n",
    "print(N, D, sigma_value)"
   ]
  },
  {
   "cell_type": "markdown",
   "metadata": {},
   "source": [
    "<span style=\"color:red\">In the end, the sigma value remains pretty similar for both the ways of computing ER random graphs.</span>"
   ]
  },
  {
   "cell_type": "markdown",
   "metadata": {},
   "source": [
    "------------"
   ]
  },
  {
   "cell_type": "markdown",
   "metadata": {},
   "source": [
    "Compute omega values.\n",
    "</br>\n",
    "$$\\omega=\\dfrac{L_r}{L}-\\dfrac{C}{C_l}$$\n"
   ]
  },
  {
   "cell_type": "markdown",
   "metadata": {},
   "source": [
    "Where $L_r$ is computed from a random graph and, $C_l$ is computed from a lattice graph.\n",
    "</br>\n",
    "$\\omega$ should be between 0 and 1."
   ]
  },
  {
   "cell_type": "markdown",
   "metadata": {},
   "source": [
    "#### B)"
   ]
  },
  {
   "cell_type": "markdown",
   "metadata": {},
   "source": [
    "Seen that $L_r$, $L$ and $C$ have yet been computed, we just need to define $C_L$ for lattice graph."
   ]
  },
  {
   "cell_type": "code",
   "execution_count": null,
   "metadata": {},
   "outputs": [],
   "source": [
    "latticized_jn = nx.lattice_reference(journals_network)"
   ]
  },
  {
   "cell_type": "markdown",
   "metadata": {},
   "source": [
    "Extract $C_l$."
   ]
  },
  {
   "cell_type": "code",
   "execution_count": null,
   "metadata": {},
   "outputs": [],
   "source": [
    "C_l = nx.average_clustering(latticized_jn)"
   ]
  },
  {
   "cell_type": "markdown",
   "metadata": {},
   "source": [
    "## Scale freedom "
   ]
  },
  {
   "cell_type": "markdown",
   "metadata": {},
   "source": [
    "A scale free network is a network whose nodes' degree follow a power law distribution (since it is dependent on a power). It is said to be scale free since one attribute of power laws is their scale invariance. In fact, given a relation Given a relation $f(x)=ax^{−k}$, scaling the argument $x$ by a constant factor $c$ causes only a proportionate scaling of the function itself.\n",
    "\n",
    "A power law distribution is descrbed by the following formula:\n",
    "$$p_d=Cd^{-\\alpha}$$\n",
    "\n",
    "Where $\\alpha$ and $C$  are the two contants modifying the slope and normalize the curve of the diatribution, while $d$ is the degree and $p_d$ is the fraction of nodes with degree $d$."
   ]
  },
  {
   "cell_type": "markdown",
   "metadata": {},
   "source": [
    "To detect whether or not the distribution we are dealing with is a power law distribution, we first plot it in a normal and in a log-log scale to understand if it presents a identifiable long tale and a line behaviour respectively."
   ]
  },
  {
   "cell_type": "code",
   "execution_count": 22,
   "metadata": {},
   "outputs": [
    {
     "data": {
      "text/html": [
       "<div>\n",
       "<style scoped>\n",
       "    .dataframe tbody tr th:only-of-type {\n",
       "        vertical-align: middle;\n",
       "    }\n",
       "\n",
       "    .dataframe tbody tr th {\n",
       "        vertical-align: top;\n",
       "    }\n",
       "\n",
       "    .dataframe thead th {\n",
       "        text-align: right;\n",
       "    }\n",
       "</style>\n",
       "<table border=\"1\" class=\"dataframe\">\n",
       "  <thead>\n",
       "    <tr style=\"text-align: right;\">\n",
       "      <th></th>\n",
       "      <th>degree</th>\n",
       "    </tr>\n",
       "  </thead>\n",
       "  <tbody>\n",
       "    <tr>\n",
       "      <th>0</th>\n",
       "      <td>64</td>\n",
       "    </tr>\n",
       "    <tr>\n",
       "      <th>1</th>\n",
       "      <td>617</td>\n",
       "    </tr>\n",
       "    <tr>\n",
       "      <th>2</th>\n",
       "      <td>60</td>\n",
       "    </tr>\n",
       "    <tr>\n",
       "      <th>3</th>\n",
       "      <td>249</td>\n",
       "    </tr>\n",
       "    <tr>\n",
       "      <th>4</th>\n",
       "      <td>90</td>\n",
       "    </tr>\n",
       "    <tr>\n",
       "      <th>...</th>\n",
       "      <td>...</td>\n",
       "    </tr>\n",
       "    <tr>\n",
       "      <th>5656</th>\n",
       "      <td>1</td>\n",
       "    </tr>\n",
       "    <tr>\n",
       "      <th>5657</th>\n",
       "      <td>1</td>\n",
       "    </tr>\n",
       "    <tr>\n",
       "      <th>5658</th>\n",
       "      <td>1</td>\n",
       "    </tr>\n",
       "    <tr>\n",
       "      <th>5659</th>\n",
       "      <td>1</td>\n",
       "    </tr>\n",
       "    <tr>\n",
       "      <th>5660</th>\n",
       "      <td>1</td>\n",
       "    </tr>\n",
       "  </tbody>\n",
       "</table>\n",
       "<p>5661 rows × 1 columns</p>\n",
       "</div>"
      ],
      "text/plain": [
       "      degree\n",
       "0         64\n",
       "1        617\n",
       "2         60\n",
       "3        249\n",
       "4         90\n",
       "...      ...\n",
       "5656       1\n",
       "5657       1\n",
       "5658       1\n",
       "5659       1\n",
       "5660       1\n",
       "\n",
       "[5661 rows x 1 columns]"
      ]
     },
     "execution_count": 22,
     "metadata": {},
     "output_type": "execute_result"
    }
   ],
   "source": [
    "degree_distribution_list = []\n",
    "for node in journals_network: \n",
    "    degree_distribution_list.append(journals_network.degree(node)) # compute the degree of each node and append it to the list of degrees\n",
    "\n",
    "ddist_df = pd.DataFrame()\n",
    "ddist_df['degree'] = degree_distribution_list # create a dataframe with the list of degrees as a column\n",
    "ddist_df"
   ]
  },
  {
   "cell_type": "code",
   "execution_count": 41,
   "metadata": {},
   "outputs": [
    {
     "data": {
      "text/plain": [
       "<seaborn.axisgrid.FacetGrid at 0x1336c3070>"
      ]
     },
     "execution_count": 41,
     "metadata": {},
     "output_type": "execute_result"
    },
    {
     "data": {
      "image/png": "[encoded data removed]",
      "text/plain": [
       "<Figure size 1008x720 with 1 Axes>"
      ]
     },
     "metadata": {
      "needs_background": "light"
     },
     "output_type": "display_data"
    }
   ],
   "source": [
    "dist_viz = sns.displot(ddist_df['degree'], height=10, aspect=7/5, bins=75)\n",
    "dist_viz.set(xlabel='Degree', ylabel='Frequency', title='Degree distribution of the journals network')\n",
    "dist_viz"
   ]
  },
  {
   "cell_type": "code",
   "execution_count": 42,
   "metadata": {},
   "outputs": [
    {
     "data": {
      "text/plain": [
       "<seaborn.axisgrid.FacetGrid at 0x133219060>"
      ]
     },
     "execution_count": 42,
     "metadata": {},
     "output_type": "execute_result"
    },
    {
     "data": {
      "image/png": "[encoded data removed]",
      "text/plain": [
       "<Figure size 1008x720 with 1 Axes>"
      ]
     },
     "metadata": {
      "needs_background": "light"
     },
     "output_type": "display_data"
    }
   ],
   "source": [
    "dist_viz = sns.displot(ddist_df['degree'], height=10, aspect=7/5, bins=75, log_scale=(True, True))\n",
    "dist_viz.set(xlabel='Degree', ylabel='Frequency', title='Degree distribution of the journals network - log-log scale')\n",
    "dist_viz"
   ]
  },
  {
   "cell_type": "markdown",
   "metadata": {},
   "source": [
    "#### Computing the scaling coefficient\n",
    "To be sure that our conclusions are not based on biased visual interpretations, we measure how close our distribution is to a power law distribution by compute the scaling coefficient $\\alpha$ as follows:\n",
    "\n",
    "$$\\alpha=1+n(\\sum_i ln \\frac{d_i}{d_{min}-1/2})^{-1}$$\n",
    "\n",
    "Where:\n",
    "- $n$ is the number of nodes in our network.\n",
    "- $d_i$ is the degree of the node $i$.\n",
    "- $d_{min}$ is the minimum degree found in our graph.\n",
    "\n",
    "Finding an $\\alpha$ value such that $2 \\le \\alpha \\le 3$ means that our network is a scale free newtork."
   ]
  },
  {
   "cell_type": "code",
   "execution_count": 57,
   "metadata": {},
   "outputs": [
    {
     "name": "stdout",
     "output_type": "stream",
     "text": [
      "alpha =  1.5434686393381751\n"
     ]
    }
   ],
   "source": [
    "sum_fa = 0\n",
    "\n",
    "for degree in degree_distribution_list:\n",
    "    sum_fa += log(degree/(1-1/2)) # compute the sum of the log of the degrees divided by the minimum degree in our netwrork (1) - 1/2\n",
    "\n",
    "\n",
    "alpha_sc = 1+len(degree_distribution_list)*(sum_fa)**-1 # compute alpha\n",
    "print(\"alpha = \", alpha_sc)"
   ]
  },
  {
   "cell_type": "markdown",
   "metadata": {},
   "source": [
    "We can conclude that the nodes' degree of our network do not follow a power law distribution, therefore our network cannot be said to be scale-free."
   ]
  },
  {
   "cell_type": "markdown",
   "metadata": {},
   "source": [
    "## Modularity coefficient"
   ]
  },
  {
   "cell_type": "markdown",
   "metadata": {},
   "source": [
    "It is between 0 and 1."
   ]
  },
  {
   "cell_type": "markdown",
   "metadata": {},
   "source": [
    "Compute $Q$, that is the modularity coefficient."
   ]
  }
 ],
 "metadata": {
  "kernelspec": {
   "display_name": "Python 3.10.5 64-bit",
   "language": "python",
   "name": "python3"
  },
  "language_info": {
   "codemirror_mode": {
    "name": "ipython",
    "version": 3
   },
   "file_extension": ".py",
   "mimetype": "text/x-python",
   "name": "python",
   "nbconvert_exporter": "python",
   "pygments_lexer": "ipython3",
   "version": "3.10.0"
  },
  "orig_nbformat": 4,
  "vscode": {
   "interpreter": {
    "hash": "aee8b7b246df8f9039afb4144a1f6fd8d2ca17a180786b69acc140d282b71a49"
   }
  }
 },
 "nbformat": 4,
 "nbformat_minor": 2
}
